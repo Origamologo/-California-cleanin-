{
 "cells": [
  {
   "cell_type": "code",
   "execution_count": 390,
   "metadata": {},
   "outputs": [],
   "source": [
    "import pandas as pd\n",
    "import numpy as np\n",
    "import matplotlib.pyplot as plt\n",
    "import seaborn as sns\n",
    "pd.options.display.max_columns = None"
   ]
  },
  {
   "cell_type": "code",
   "execution_count": 391,
   "metadata": {},
   "outputs": [],
   "source": [
    "df = pd.read_csv(r\"C:\\Users\\mituc\\Ironhack\\Curso\\IronLabs\\California-cleanin\\california.csv\", index_col = 0)"
   ]
  },
  {
   "cell_type": "markdown",
   "metadata": {},
   "source": [
    "'id',: id de la casa<br>\n",
    "'state',: el estado al que pertenece<br>\n",
    "'gender',: el género de la persona que alquila la casa<br>\n",
    "'median_home_val',: el valor de la casa<br>\n",
    "'median_household_income',:_ la mediana de la renta de la poblacion<br>\n",
    "'ic2', poblacion de la zona<br>\n",
    "'ic3', numero de vecinos en el bloque<br>\n",
    "'ic4', total de habitaciones<br>\n",
    "'ic5', total de baños<br>\n",
    "'avggift',:_ distancia a la playa<br>\n",
    "'target_d': esta variable no la usaremos, asi que la podeis elimina<br>"
   ]
  },
  {
   "cell_type": "code",
   "execution_count": 392,
   "metadata": {},
   "outputs": [
    {
     "data": {
      "text/html": [
       "<div>\n",
       "<style scoped>\n",
       "    .dataframe tbody tr th:only-of-type {\n",
       "        vertical-align: middle;\n",
       "    }\n",
       "\n",
       "    .dataframe tbody tr th {\n",
       "        vertical-align: top;\n",
       "    }\n",
       "\n",
       "    .dataframe thead th {\n",
       "        text-align: right;\n",
       "    }\n",
       "</style>\n",
       "<table border=\"1\" class=\"dataframe\">\n",
       "  <thead>\n",
       "    <tr style=\"text-align: right;\">\n",
       "      <th></th>\n",
       "      <th>id</th>\n",
       "      <th>state</th>\n",
       "      <th>gender</th>\n",
       "      <th>median_home_val</th>\n",
       "      <th>median_household_income</th>\n",
       "      <th>ic2</th>\n",
       "      <th>ic3</th>\n",
       "      <th>ic4</th>\n",
       "      <th>ic5</th>\n",
       "      <th>avggift</th>\n",
       "      <th>target_d</th>\n",
       "    </tr>\n",
       "  </thead>\n",
       "  <tbody>\n",
       "    <tr>\n",
       "      <th>0</th>\n",
       "      <td>44060</td>\n",
       "      <td>FL</td>\n",
       "      <td>M</td>\n",
       "      <td>1158.437751</td>\n",
       "      <td>392.0</td>\n",
       "      <td>430.0</td>\n",
       "      <td>466.0</td>\n",
       "      <td>520.0</td>\n",
       "      <td>21975.0</td>\n",
       "      <td>NaN</td>\n",
       "      <td>100.0</td>\n",
       "    </tr>\n",
       "    <tr>\n",
       "      <th>1</th>\n",
       "      <td>96093</td>\n",
       "      <td>IL</td>\n",
       "      <td>M</td>\n",
       "      <td>537.000000</td>\n",
       "      <td>365.0</td>\n",
       "      <td>415.0</td>\n",
       "      <td>410.0</td>\n",
       "      <td>473.0</td>\n",
       "      <td>19387.0</td>\n",
       "      <td>5.666667</td>\n",
       "      <td>7.0</td>\n",
       "    </tr>\n",
       "    <tr>\n",
       "      <th>2</th>\n",
       "      <td>43333</td>\n",
       "      <td>FL</td>\n",
       "      <td>F</td>\n",
       "      <td>725.000000</td>\n",
       "      <td>301.0</td>\n",
       "      <td>340.0</td>\n",
       "      <td>361.0</td>\n",
       "      <td>436.0</td>\n",
       "      <td>18837.0</td>\n",
       "      <td>4.111111</td>\n",
       "      <td>5.0</td>\n",
       "    </tr>\n",
       "    <tr>\n",
       "      <th>3</th>\n",
       "      <td>21885</td>\n",
       "      <td>NC</td>\n",
       "      <td>M</td>\n",
       "      <td>1158.437751</td>\n",
       "      <td>401.0</td>\n",
       "      <td>407.0</td>\n",
       "      <td>399.0</td>\n",
       "      <td>413.0</td>\n",
       "      <td>14014.0</td>\n",
       "      <td>27.277778</td>\n",
       "      <td>38.0</td>\n",
       "    </tr>\n",
       "    <tr>\n",
       "      <th>4</th>\n",
       "      <td>190108</td>\n",
       "      <td>FL</td>\n",
       "      <td>F</td>\n",
       "      <td>995.000000</td>\n",
       "      <td>252.0</td>\n",
       "      <td>280.0</td>\n",
       "      <td>316.0</td>\n",
       "      <td>348.0</td>\n",
       "      <td>17991.0</td>\n",
       "      <td>6.000000</td>\n",
       "      <td>5.0</td>\n",
       "    </tr>\n",
       "  </tbody>\n",
       "</table>\n",
       "</div>"
      ],
      "text/plain": [
       "       id state gender  median_home_val  median_household_income    ic2  \\\n",
       "0   44060    FL      M      1158.437751                    392.0  430.0   \n",
       "1   96093    IL      M       537.000000                    365.0  415.0   \n",
       "2   43333    FL      F       725.000000                    301.0  340.0   \n",
       "3   21885    NC      M      1158.437751                    401.0  407.0   \n",
       "4  190108    FL      F       995.000000                    252.0  280.0   \n",
       "\n",
       "     ic3    ic4      ic5    avggift  target_d  \n",
       "0  466.0  520.0  21975.0        NaN     100.0  \n",
       "1  410.0  473.0  19387.0   5.666667       7.0  \n",
       "2  361.0  436.0  18837.0   4.111111       5.0  \n",
       "3  399.0  413.0  14014.0  27.277778      38.0  \n",
       "4  316.0  348.0  17991.0   6.000000       5.0  "
      ]
     },
     "execution_count": 392,
     "metadata": {},
     "output_type": "execute_result"
    }
   ],
   "source": [
    "df.head(5)"
   ]
  },
  {
   "cell_type": "code",
   "execution_count": 357,
   "metadata": {},
   "outputs": [
    {
     "data": {
      "text/plain": [
       "(3993, 11)"
      ]
     },
     "execution_count": 357,
     "metadata": {},
     "output_type": "execute_result"
    }
   ],
   "source": [
    "df.shape"
   ]
  },
  {
   "cell_type": "code",
   "execution_count": 394,
   "metadata": {},
   "outputs": [
    {
     "data": {
      "text/plain": [
       "0"
      ]
     },
     "execution_count": 394,
     "metadata": {},
     "output_type": "execute_result"
    }
   ],
   "source": [
    "df.duplicated(subset=[\"id\"]).sum()"
   ]
  },
  {
   "cell_type": "code",
   "execution_count": 393,
   "metadata": {},
   "outputs": [
    {
     "data": {
      "image/png": "[encoded data removed]",
      "text/plain": [
       "<Figure size 1440x1080 with 9 Axes>"
      ]
     },
     "metadata": {
      "needs_background": "light"
     },
     "output_type": "display_data"
    }
   ],
   "source": [
    "df.hist(bins = 50, figsize = (20,15))\n",
    "plt.show()"
   ]
  },
  {
   "cell_type": "code",
   "execution_count": 395,
   "metadata": {},
   "outputs": [
    {
     "data": {
      "text/plain": [
       "median_home_val            1.000000\n",
       "ic5                        0.744776\n",
       "ic4                        0.742227\n",
       "ic2                        0.737371\n",
       "ic3                        0.732857\n",
       "median_household_income    0.700940\n",
       "id                         0.253189\n",
       "avggift                    0.125058\n",
       "target_d                   0.110053\n",
       "Name: median_home_val, dtype: float64"
      ]
     },
     "execution_count": 395,
     "metadata": {},
     "output_type": "execute_result"
    }
   ],
   "source": [
    "corr_matrix = df.corr()\n",
    "corr_matrix[\"median_home_val\"].sort_values(ascending=False)\n"
   ]
  },
  {
   "cell_type": "code",
   "execution_count": 396,
   "metadata": {},
   "outputs": [],
   "source": [
    "df[\"rooms_per_neigh\"] = df[\"ic4\"]/df[\"ic3\"]\n",
    "df[\"baths_per_neigh\"] = df[\"ic5\"]/df[\"ic3\"]\n",
    "df[\"population_per_household\"] = df[\"ic2\"]/df[\"ic3\"]\n"
   ]
  },
  {
   "cell_type": "code",
   "execution_count": 397,
   "metadata": {},
   "outputs": [
    {
     "data": {
      "text/plain": [
       "median_home_val             1.000000\n",
       "ic5                         0.744776\n",
       "ic4                         0.742227\n",
       "ic2                         0.737371\n",
       "ic3                         0.732857\n",
       "median_household_income     0.700940\n",
       "baths_per_neigh             0.274009\n",
       "id                          0.253189\n",
       "avggift                     0.125058\n",
       "target_d                    0.110053\n",
       "population_per_household    0.096456\n",
       "rooms_per_neigh            -0.076728\n",
       "Name: median_home_val, dtype: float64"
      ]
     },
     "execution_count": 397,
     "metadata": {},
     "output_type": "execute_result"
    }
   ],
   "source": [
    "corr_matrix = df.corr()\n",
    "corr_matrix[\"median_home_val\"].sort_values(ascending=False)"
   ]
  },
  {
   "cell_type": "code",
   "execution_count": 398,
   "metadata": {},
   "outputs": [
    {
     "data": {
      "text/html": [
       "<div>\n",
       "<style scoped>\n",
       "    .dataframe tbody tr th:only-of-type {\n",
       "        vertical-align: middle;\n",
       "    }\n",
       "\n",
       "    .dataframe tbody tr th {\n",
       "        vertical-align: top;\n",
       "    }\n",
       "\n",
       "    .dataframe thead th {\n",
       "        text-align: right;\n",
       "    }\n",
       "</style>\n",
       "<table border=\"1\" class=\"dataframe\">\n",
       "  <thead>\n",
       "    <tr style=\"text-align: right;\">\n",
       "      <th></th>\n",
       "      <th>id</th>\n",
       "      <th>state</th>\n",
       "      <th>gender</th>\n",
       "      <th>median_home_val</th>\n",
       "      <th>median_household_income</th>\n",
       "      <th>ic2</th>\n",
       "      <th>ic3</th>\n",
       "      <th>ic4</th>\n",
       "      <th>ic5</th>\n",
       "      <th>avggift</th>\n",
       "      <th>target_d</th>\n",
       "      <th>rooms_per_neigh</th>\n",
       "      <th>baths_per_neigh</th>\n",
       "      <th>population_per_household</th>\n",
       "    </tr>\n",
       "  </thead>\n",
       "  <tbody>\n",
       "    <tr>\n",
       "      <th>0</th>\n",
       "      <td>44060</td>\n",
       "      <td>FL</td>\n",
       "      <td>M</td>\n",
       "      <td>1158.437751</td>\n",
       "      <td>392.0</td>\n",
       "      <td>430.0</td>\n",
       "      <td>466.0</td>\n",
       "      <td>520.0</td>\n",
       "      <td>21975.0</td>\n",
       "      <td>NaN</td>\n",
       "      <td>100.0</td>\n",
       "      <td>1.115880</td>\n",
       "      <td>47.156652</td>\n",
       "      <td>0.922747</td>\n",
       "    </tr>\n",
       "    <tr>\n",
       "      <th>1</th>\n",
       "      <td>96093</td>\n",
       "      <td>IL</td>\n",
       "      <td>M</td>\n",
       "      <td>537.000000</td>\n",
       "      <td>365.0</td>\n",
       "      <td>415.0</td>\n",
       "      <td>410.0</td>\n",
       "      <td>473.0</td>\n",
       "      <td>19387.0</td>\n",
       "      <td>5.666667</td>\n",
       "      <td>7.0</td>\n",
       "      <td>1.153659</td>\n",
       "      <td>47.285366</td>\n",
       "      <td>1.012195</td>\n",
       "    </tr>\n",
       "    <tr>\n",
       "      <th>2</th>\n",
       "      <td>43333</td>\n",
       "      <td>FL</td>\n",
       "      <td>F</td>\n",
       "      <td>725.000000</td>\n",
       "      <td>301.0</td>\n",
       "      <td>340.0</td>\n",
       "      <td>361.0</td>\n",
       "      <td>436.0</td>\n",
       "      <td>18837.0</td>\n",
       "      <td>4.111111</td>\n",
       "      <td>5.0</td>\n",
       "      <td>1.207756</td>\n",
       "      <td>52.180055</td>\n",
       "      <td>0.941828</td>\n",
       "    </tr>\n",
       "    <tr>\n",
       "      <th>3</th>\n",
       "      <td>21885</td>\n",
       "      <td>NC</td>\n",
       "      <td>M</td>\n",
       "      <td>1158.437751</td>\n",
       "      <td>401.0</td>\n",
       "      <td>407.0</td>\n",
       "      <td>399.0</td>\n",
       "      <td>413.0</td>\n",
       "      <td>14014.0</td>\n",
       "      <td>27.277778</td>\n",
       "      <td>38.0</td>\n",
       "      <td>1.035088</td>\n",
       "      <td>35.122807</td>\n",
       "      <td>1.020050</td>\n",
       "    </tr>\n",
       "    <tr>\n",
       "      <th>4</th>\n",
       "      <td>190108</td>\n",
       "      <td>FL</td>\n",
       "      <td>F</td>\n",
       "      <td>995.000000</td>\n",
       "      <td>252.0</td>\n",
       "      <td>280.0</td>\n",
       "      <td>316.0</td>\n",
       "      <td>348.0</td>\n",
       "      <td>17991.0</td>\n",
       "      <td>6.000000</td>\n",
       "      <td>5.0</td>\n",
       "      <td>1.101266</td>\n",
       "      <td>56.933544</td>\n",
       "      <td>0.886076</td>\n",
       "    </tr>\n",
       "  </tbody>\n",
       "</table>\n",
       "</div>"
      ],
      "text/plain": [
       "       id state gender  median_home_val  median_household_income    ic2  \\\n",
       "0   44060    FL      M      1158.437751                    392.0  430.0   \n",
       "1   96093    IL      M       537.000000                    365.0  415.0   \n",
       "2   43333    FL      F       725.000000                    301.0  340.0   \n",
       "3   21885    NC      M      1158.437751                    401.0  407.0   \n",
       "4  190108    FL      F       995.000000                    252.0  280.0   \n",
       "\n",
       "     ic3    ic4      ic5    avggift  target_d  rooms_per_neigh  \\\n",
       "0  466.0  520.0  21975.0        NaN     100.0         1.115880   \n",
       "1  410.0  473.0  19387.0   5.666667       7.0         1.153659   \n",
       "2  361.0  436.0  18837.0   4.111111       5.0         1.207756   \n",
       "3  399.0  413.0  14014.0  27.277778      38.0         1.035088   \n",
       "4  316.0  348.0  17991.0   6.000000       5.0         1.101266   \n",
       "\n",
       "   baths_per_neigh  population_per_household  \n",
       "0        47.156652                  0.922747  \n",
       "1        47.285366                  1.012195  \n",
       "2        52.180055                  0.941828  \n",
       "3        35.122807                  1.020050  \n",
       "4        56.933544                  0.886076  "
      ]
     },
     "execution_count": 398,
     "metadata": {},
     "output_type": "execute_result"
    }
   ],
   "source": [
    "df.head(5)"
   ]
  },
  {
   "cell_type": "code",
   "execution_count": 359,
   "metadata": {},
   "outputs": [
    {
     "data": {
      "text/plain": [
       "id                           0\n",
       "state                        9\n",
       "gender                       0\n",
       "median_home_val            200\n",
       "median_household_income    120\n",
       "ic2                          8\n",
       "ic3                         80\n",
       "ic4                         40\n",
       "ic5                        399\n",
       "avggift                    280\n",
       "target_d                     0\n",
       "dtype: int64"
      ]
     },
     "execution_count": 359,
     "metadata": {},
     "output_type": "execute_result"
    }
   ],
   "source": [
    "df.isnull().sum()"
   ]
  },
  {
   "cell_type": "code",
   "execution_count": 360,
   "metadata": {},
   "outputs": [
    {
     "data": {
      "text/plain": [
       "array(['M', 'F', 'female', 'Male', 'U', 'J', 'male', 'Female', 'feamale',\n",
       "       'A'], dtype=object)"
      ]
     },
     "execution_count": 360,
     "metadata": {},
     "output_type": "execute_result"
    }
   ],
   "source": [
    "df[\"gender\"].unique()"
   ]
  },
  {
   "cell_type": "code",
   "execution_count": 361,
   "metadata": {},
   "outputs": [],
   "source": [
    "f = ['female','Female','feamale']\n",
    "m = ['Male','male']\n",
    "\n",
    "for i in f:\n",
    "    df[\"gender\"] = df[\"gender\"].str.replace(i, 'F')\n",
    "for i in m:\n",
    "    df[\"gender\"] = df[\"gender\"].str.replace(i,'M')"
   ]
  },
  {
   "cell_type": "code",
   "execution_count": 362,
   "metadata": {},
   "outputs": [
    {
     "data": {
      "text/plain": [
       "array(['M', 'F', 'U', 'J', 'A'], dtype=object)"
      ]
     },
     "execution_count": 362,
     "metadata": {},
     "output_type": "execute_result"
    }
   ],
   "source": [
    "df[\"gender\"].unique()"
   ]
  },
  {
   "cell_type": "code",
   "execution_count": 363,
   "metadata": {},
   "outputs": [
    {
     "data": {
      "text/plain": [
       "F    2276\n",
       "M    1625\n",
       "U      68\n",
       "J      23\n",
       "A       1\n",
       "Name: gender, dtype: int64"
      ]
     },
     "execution_count": 363,
     "metadata": {},
     "output_type": "execute_result"
    }
   ],
   "source": [
    "df[\"gender\"].value_counts()"
   ]
  },
  {
   "cell_type": "code",
   "execution_count": 364,
   "metadata": {},
   "outputs": [
    {
     "data": {
      "text/plain": [
       "3901"
      ]
     },
     "execution_count": 364,
     "metadata": {},
     "output_type": "execute_result"
    }
   ],
   "source": [
    "df[\"gender\"].value_counts()[0]+df[\"gender\"].value_counts()[1]"
   ]
  },
  {
   "cell_type": "code",
   "execution_count": 365,
   "metadata": {},
   "outputs": [],
   "source": [
    "g = ['U','J','A']\n",
    "\n",
    "for i in g:\n",
    "    df.drop(df[df[\"gender\"] == i].index, inplace=True)"
   ]
  },
  {
   "cell_type": "code",
   "execution_count": 366,
   "metadata": {},
   "outputs": [
    {
     "data": {
      "text/plain": [
       "F    2276\n",
       "M    1625\n",
       "Name: gender, dtype: int64"
      ]
     },
     "execution_count": 366,
     "metadata": {},
     "output_type": "execute_result"
    }
   ],
   "source": [
    "df[\"gender\"].value_counts()"
   ]
  },
  {
   "cell_type": "code",
   "execution_count": 367,
   "metadata": {},
   "outputs": [
    {
     "data": {
      "text/plain": [
       "array(['FL', 'IL', 'NC', nan, 'NV', 'CA', 'Cali', 'AP', 'MI', 'MT', 'TX',\n",
       "       'WI', 'MO', 'IN', 'HI', 'UT', 'GA', 'WA', 'CT', 'ND', 'SC', 'IA',\n",
       "       'CO', 'LA', 'OR', 'SD', 'AL', 'TN', 'NM', 'AZ', 'MN', 'KY', 'OK',\n",
       "       'NE', 'AR', 'KS', 'ID', 'California', 'MS', 'NY', 'Arizona', 'WY',\n",
       "       'Tennessee', 'MD', 'AK', 'VA', 'AE', 'NJ', 'AA', 'PA', 'VT', 'WV',\n",
       "       'GU'], dtype=object)"
      ]
     },
     "execution_count": 367,
     "metadata": {},
     "output_type": "execute_result"
    }
   ],
   "source": [
    "df[\"state\"].unique()"
   ]
  },
  {
   "cell_type": "code",
   "execution_count": 368,
   "metadata": {},
   "outputs": [],
   "source": [
    "df[\"state\"] = df[\"state\"].str.replace('California', 'CA')\n",
    "df[\"state\"] = df[\"state\"].str.replace('Cali', 'CA')\n",
    "df[\"state\"] = df[\"state\"].str.replace('Arizona', 'AZ')\n",
    "df[\"state\"] = df[\"state\"].str.replace('Tennessee', 'TN')\n"
   ]
  },
  {
   "cell_type": "code",
   "execution_count": 369,
   "metadata": {},
   "outputs": [
    {
     "data": {
      "text/plain": [
       "array(['FL', 'IL', 'NC', nan, 'NV', 'CA', 'AP', 'MI', 'MT', 'TX', 'WI',\n",
       "       'MO', 'IN', 'HI', 'UT', 'GA', 'WA', 'CT', 'ND', 'SC', 'IA', 'CO',\n",
       "       'LA', 'OR', 'SD', 'AL', 'TN', 'NM', 'AZ', 'MN', 'KY', 'OK', 'NE',\n",
       "       'AR', 'KS', 'ID', 'MS', 'NY', 'WY', 'MD', 'AK', 'VA', 'AE', 'NJ',\n",
       "       'AA', 'PA', 'VT', 'WV', 'GU'], dtype=object)"
      ]
     },
     "execution_count": 369,
     "metadata": {},
     "output_type": "execute_result"
    }
   ],
   "source": [
    "df[\"state\"].unique()"
   ]
  },
  {
   "cell_type": "code",
   "execution_count": 370,
   "metadata": {},
   "outputs": [
    {
     "data": {
      "text/plain": [
       "id                           0\n",
       "state                        8\n",
       "gender                       0\n",
       "median_home_val            196\n",
       "median_household_income    118\n",
       "ic2                          8\n",
       "ic3                         77\n",
       "ic4                         40\n",
       "ic5                        391\n",
       "avggift                    271\n",
       "target_d                     0\n",
       "dtype: int64"
      ]
     },
     "execution_count": 370,
     "metadata": {},
     "output_type": "execute_result"
    }
   ],
   "source": [
    "df.isnull().sum()"
   ]
  },
  {
   "cell_type": "code",
   "execution_count": 371,
   "metadata": {},
   "outputs": [],
   "source": [
    "df.dropna(subset = ['state', 'ic2', 'ic3', 'ic4'], inplace = True)"
   ]
  },
  {
   "cell_type": "code",
   "execution_count": 372,
   "metadata": {},
   "outputs": [
    {
     "data": {
      "text/plain": [
       "id                           0\n",
       "state                        0\n",
       "gender                       0\n",
       "median_home_val            194\n",
       "median_household_income    116\n",
       "ic2                          0\n",
       "ic3                          0\n",
       "ic4                          0\n",
       "ic5                        375\n",
       "avggift                    258\n",
       "target_d                     0\n",
       "dtype: int64"
      ]
     },
     "execution_count": 372,
     "metadata": {},
     "output_type": "execute_result"
    }
   ],
   "source": [
    "df.isnull().sum()"
   ]
  },
  {
   "cell_type": "code",
   "execution_count": 373,
   "metadata": {},
   "outputs": [],
   "source": [
    "df_numericas = df.select_dtypes(include=np.number)"
   ]
  },
  {
   "cell_type": "code",
   "execution_count": 374,
   "metadata": {},
   "outputs": [],
   "source": [
    "df_numericas = df_numericas.drop(['id', 'target_d'], axis = 1)"
   ]
  },
  {
   "cell_type": "code",
   "execution_count": 375,
   "metadata": {},
   "outputs": [
    {
     "data": {
      "text/html": [
       "<div>\n",
       "<style scoped>\n",
       "    .dataframe tbody tr th:only-of-type {\n",
       "        vertical-align: middle;\n",
       "    }\n",
       "\n",
       "    .dataframe tbody tr th {\n",
       "        vertical-align: top;\n",
       "    }\n",
       "\n",
       "    .dataframe thead th {\n",
       "        text-align: right;\n",
       "    }\n",
       "</style>\n",
       "<table border=\"1\" class=\"dataframe\">\n",
       "  <thead>\n",
       "    <tr style=\"text-align: right;\">\n",
       "      <th></th>\n",
       "      <th>median_home_val</th>\n",
       "      <th>median_household_income</th>\n",
       "      <th>ic2</th>\n",
       "      <th>ic3</th>\n",
       "      <th>ic4</th>\n",
       "      <th>ic5</th>\n",
       "      <th>avggift</th>\n",
       "    </tr>\n",
       "  </thead>\n",
       "  <tbody>\n",
       "    <tr>\n",
       "      <th>0</th>\n",
       "      <td>1158.437751</td>\n",
       "      <td>392.0</td>\n",
       "      <td>430.0</td>\n",
       "      <td>466.0</td>\n",
       "      <td>520.0</td>\n",
       "      <td>21975.0</td>\n",
       "      <td>NaN</td>\n",
       "    </tr>\n",
       "    <tr>\n",
       "      <th>1</th>\n",
       "      <td>537.000000</td>\n",
       "      <td>365.0</td>\n",
       "      <td>415.0</td>\n",
       "      <td>410.0</td>\n",
       "      <td>473.0</td>\n",
       "      <td>19387.0</td>\n",
       "      <td>5.666667</td>\n",
       "    </tr>\n",
       "    <tr>\n",
       "      <th>2</th>\n",
       "      <td>725.000000</td>\n",
       "      <td>301.0</td>\n",
       "      <td>340.0</td>\n",
       "      <td>361.0</td>\n",
       "      <td>436.0</td>\n",
       "      <td>18837.0</td>\n",
       "      <td>4.111111</td>\n",
       "    </tr>\n",
       "    <tr>\n",
       "      <th>3</th>\n",
       "      <td>1158.437751</td>\n",
       "      <td>401.0</td>\n",
       "      <td>407.0</td>\n",
       "      <td>399.0</td>\n",
       "      <td>413.0</td>\n",
       "      <td>14014.0</td>\n",
       "      <td>27.277778</td>\n",
       "    </tr>\n",
       "    <tr>\n",
       "      <th>4</th>\n",
       "      <td>995.000000</td>\n",
       "      <td>252.0</td>\n",
       "      <td>280.0</td>\n",
       "      <td>316.0</td>\n",
       "      <td>348.0</td>\n",
       "      <td>17991.0</td>\n",
       "      <td>6.000000</td>\n",
       "    </tr>\n",
       "  </tbody>\n",
       "</table>\n",
       "</div>"
      ],
      "text/plain": [
       "   median_home_val  median_household_income    ic2    ic3    ic4      ic5  \\\n",
       "0      1158.437751                    392.0  430.0  466.0  520.0  21975.0   \n",
       "1       537.000000                    365.0  415.0  410.0  473.0  19387.0   \n",
       "2       725.000000                    301.0  340.0  361.0  436.0  18837.0   \n",
       "3      1158.437751                    401.0  407.0  399.0  413.0  14014.0   \n",
       "4       995.000000                    252.0  280.0  316.0  348.0  17991.0   \n",
       "\n",
       "     avggift  \n",
       "0        NaN  \n",
       "1   5.666667  \n",
       "2   4.111111  \n",
       "3  27.277778  \n",
       "4   6.000000  "
      ]
     },
     "execution_count": 375,
     "metadata": {},
     "output_type": "execute_result"
    }
   ],
   "source": [
    "df_numericas.head(5)"
   ]
  },
  {
   "cell_type": "code",
   "execution_count": 376,
   "metadata": {},
   "outputs": [
    {
     "data": {
      "image/png": "[encoded data removed]",
      "text/plain": [
       "<Figure size 1440x1080 with 7 Axes>"
      ]
     },
     "metadata": {
      "needs_background": "light"
     },
     "output_type": "display_data"
    }
   ],
   "source": [
    "fig, ax = plt.subplots(7, 1, figsize=(20,15))\n",
    "\n",
    "for i in range(len(df_numericas.columns)):\n",
    "    sns.boxplot(x=df_numericas.columns[i], data=df_numericas, ax=ax[i])\n",
    "plt.show()"
   ]
  },
  {
   "cell_type": "code",
   "execution_count": 377,
   "metadata": {},
   "outputs": [
    {
     "name": "stdout",
     "output_type": "stream",
     "text": [
      "median_home_val 0.0\n",
      "median_household_income 0.0\n",
      "ic2 0.0\n",
      "ic3 0.0\n",
      "ic4 0.0\n",
      "ic5 0.0\n",
      "avggift 2.260869565\n"
     ]
    }
   ],
   "source": [
    "for i in df_numericas.columns:\n",
    "    print(i,df_numericas[i].min())"
   ]
  },
  {
   "cell_type": "code",
   "execution_count": 378,
   "metadata": {},
   "outputs": [
    {
     "data": {
      "text/plain": [
       "450.0"
      ]
     },
     "execution_count": 378,
     "metadata": {},
     "output_type": "execute_result"
    }
   ],
   "source": [
    "df_numericas[\"avggift\"].max()"
   ]
  },
  {
   "cell_type": "code",
   "execution_count": 379,
   "metadata": {},
   "outputs": [
    {
     "data": {
      "text/plain": [
       "174523.0"
      ]
     },
     "execution_count": 379,
     "metadata": {},
     "output_type": "execute_result"
    }
   ],
   "source": [
    "df_numericas[\"ic5\"].max()"
   ]
  },
  {
   "cell_type": "code",
   "execution_count": 380,
   "metadata": {},
   "outputs": [
    {
     "data": {
      "text/plain": [
       "0.0"
      ]
     },
     "execution_count": 380,
     "metadata": {},
     "output_type": "execute_result"
    }
   ],
   "source": [
    "df_numericas[\"ic4\"].min()"
   ]
  },
  {
   "cell_type": "code",
   "execution_count": 381,
   "metadata": {},
   "outputs": [
    {
     "data": {
      "text/plain": [
       "(3770, 11)"
      ]
     },
     "execution_count": 381,
     "metadata": {},
     "output_type": "execute_result"
    }
   ],
   "source": [
    "df.shape"
   ]
  },
  {
   "cell_type": "code",
   "execution_count": 382,
   "metadata": {},
   "outputs": [],
   "source": [
    "df.drop(df[df['avggift'] == 450.0].index, inplace=True)"
   ]
  },
  {
   "cell_type": "code",
   "execution_count": 383,
   "metadata": {},
   "outputs": [],
   "source": [
    "df.drop(df[df['ic5'] == 174523.0].index, inplace=True)"
   ]
  },
  {
   "cell_type": "code",
   "execution_count": 384,
   "metadata": {},
   "outputs": [],
   "source": [
    "df.drop(df[df['ic4'] == 0.0].index, inplace=True)"
   ]
  },
  {
   "cell_type": "code",
   "execution_count": 385,
   "metadata": {},
   "outputs": [
    {
     "data": {
      "text/plain": [
       "(3739, 11)"
      ]
     },
     "execution_count": 385,
     "metadata": {},
     "output_type": "execute_result"
    }
   ],
   "source": [
    "df.shape"
   ]
  },
  {
   "cell_type": "code",
   "execution_count": 386,
   "metadata": {},
   "outputs": [],
   "source": [
    "def outliers(df, col):\n",
    "    \"\"\"\n",
    "    Calculates the interquartile range of a column in a dataframe.\n",
    "    \n",
    "    Args:\n",
    "        df (pandas Data Frame)\n",
    "        col (string): name of the column\n",
    "    Returns:\n",
    "        q1: value of the first quartile\n",
    "        q2: value of the second quartile\n",
    "        outlier_iqr: interquartile range\n",
    "    \"\"\"\n",
    "    q1 = np.nanpercentile(df[col], 25)\n",
    "    q3 = np.nanpercentile(df[col], 75)\n",
    "    iqr = q3 - q1\n",
    "    outlier_step = 1.5 * iqr\n",
    "    return q1, q3, outlier_step\n",
    "\n",
    "def outliers_df(df, col):\n",
    "    \"\"\"\n",
    "    Separates the outliers of a column in a dataframe.\n",
    "    \n",
    "    Args:\n",
    "        df (pandas Data Frame)\n",
    "        col (string): name of the column\n",
    "    Methods:\n",
    "        Uses the function outliers()\n",
    "    Returns:\n",
    "        outliers_data: dataframe with the outliers\n",
    "    \"\"\"\n",
    "    outliers_data = df[(df[col] < outliers(df, col)[0] - outliers(df, col)[2]) | (df[col] > outliers(df, col)[1] + outliers(df, col)[2])]\n",
    "    return outliers_data\n",
    "\n",
    "def outliers_index(df, list_col):\n",
    "    \"\"\"\n",
    "    Creates a list and a dictionary with the indexes of the outliers of a list of columns in a dataframe.\n",
    "    \n",
    "    Args:\n",
    "        df (pandas Data Frame)\n",
    "        list_col (list): list of strings with the names of the columns\n",
    "    Methods:\n",
    "        Uses the function outliers_df()\n",
    "    Returns:\n",
    "        dicc_index: dictionary with the name of the columns as keys and the indexes of the outliers as values\n",
    "        outliers: list with the indexes of the outliers\n",
    "    \"\"\"\n",
    "    dicc_index = {}\n",
    "    for i in list_col:\n",
    "        if outliers_df(df, i).shape[0] > 0:\n",
    "            dicc_index[i] = list(outliers_df(df, i).index)\n",
    "    outliers = list(set([i for sublist in list(dicc_index.values()) for i in sublist]))\n",
    "    return dicc_index, outliers"
   ]
  },
  {
   "cell_type": "code",
   "execution_count": 387,
   "metadata": {},
   "outputs": [],
   "source": [
    "outliers = outliers_index(df, df_numericas.columns)[1]"
   ]
  },
  {
   "cell_type": "code",
   "execution_count": 388,
   "metadata": {},
   "outputs": [
    {
     "data": {
      "text/plain": [
       "500"
      ]
     },
     "execution_count": 388,
     "metadata": {},
     "output_type": "execute_result"
    }
   ],
   "source": [
    "len(outliers)"
   ]
  },
  {
   "cell_type": "code",
   "execution_count": 389,
   "metadata": {},
   "outputs": [
    {
     "name": "stderr",
     "output_type": "stream",
     "text": [
      "C:\\Users\\mituc\\anaconda3\\envs\\py39\\lib\\site-packages\\pandas\\core\\indexes\\base.py:5055: FutureWarning: Using a non-tuple sequence for multidimensional indexing is deprecated; use `arr[tuple(seq)]` instead of `arr[seq]`. In the future this will be interpreted as an array index, `arr[np.array(seq)]`, which will result either in an error or a different result.\n",
      "  result = getitem(key)\n"
     ]
    },
    {
     "ename": "IndexError",
     "evalue": "index 3746 is out of bounds for axis 0 with size 3739",
     "output_type": "error",
     "traceback": [
      "\u001b[1;31m---------------------------------------------------------------------------\u001b[0m",
      "\u001b[1;31mIndexError\u001b[0m                                Traceback (most recent call last)",
      "\u001b[1;32m~\\AppData\\Local\\Temp/ipykernel_15132/1907369744.py\u001b[0m in \u001b[0;36m<module>\u001b[1;34m\u001b[0m\n\u001b[1;32m----> 1\u001b[1;33m \u001b[0mdf_no_outliers\u001b[0m \u001b[1;33m=\u001b[0m \u001b[0mdf\u001b[0m\u001b[1;33m.\u001b[0m\u001b[0mdrop\u001b[0m\u001b[1;33m(\u001b[0m\u001b[0mdf\u001b[0m\u001b[1;33m.\u001b[0m\u001b[0mindex\u001b[0m\u001b[1;33m[\u001b[0m\u001b[1;33m[\u001b[0m\u001b[0moutliers\u001b[0m\u001b[1;33m]\u001b[0m\u001b[1;33m]\u001b[0m\u001b[1;33m)\u001b[0m\u001b[1;33m\u001b[0m\u001b[1;33m\u001b[0m\u001b[0m\n\u001b[0m",
      "\u001b[1;32m~\\anaconda3\\envs\\py39\\lib\\site-packages\\pandas\\core\\indexes\\base.py\u001b[0m in \u001b[0;36m__getitem__\u001b[1;34m(self, key)\u001b[0m\n\u001b[0;32m   5053\u001b[0m             \u001b[0mkey\u001b[0m \u001b[1;33m=\u001b[0m \u001b[0mnp\u001b[0m\u001b[1;33m.\u001b[0m\u001b[0masarray\u001b[0m\u001b[1;33m(\u001b[0m\u001b[0mkey\u001b[0m\u001b[1;33m,\u001b[0m \u001b[0mdtype\u001b[0m\u001b[1;33m=\u001b[0m\u001b[0mbool\u001b[0m\u001b[1;33m)\u001b[0m\u001b[1;33m\u001b[0m\u001b[1;33m\u001b[0m\u001b[0m\n\u001b[0;32m   5054\u001b[0m \u001b[1;33m\u001b[0m\u001b[0m\n\u001b[1;32m-> 5055\u001b[1;33m         \u001b[0mresult\u001b[0m \u001b[1;33m=\u001b[0m \u001b[0mgetitem\u001b[0m\u001b[1;33m(\u001b[0m\u001b[0mkey\u001b[0m\u001b[1;33m)\u001b[0m\u001b[1;33m\u001b[0m\u001b[1;33m\u001b[0m\u001b[0m\n\u001b[0m\u001b[0;32m   5056\u001b[0m         \u001b[1;31m# Because we ruled out integer above, we always get an arraylike here\u001b[0m\u001b[1;33m\u001b[0m\u001b[1;33m\u001b[0m\u001b[0m\n\u001b[0;32m   5057\u001b[0m         \u001b[1;32mif\u001b[0m \u001b[0mresult\u001b[0m\u001b[1;33m.\u001b[0m\u001b[0mndim\u001b[0m \u001b[1;33m>\u001b[0m \u001b[1;36m1\u001b[0m\u001b[1;33m:\u001b[0m\u001b[1;33m\u001b[0m\u001b[1;33m\u001b[0m\u001b[0m\n",
      "\u001b[1;31mIndexError\u001b[0m: index 3746 is out of bounds for axis 0 with size 3739"
     ]
    }
   ],
   "source": [
    "df_no_outliers = df.drop(df.index[[outliers]])"
   ]
  },
  {
   "cell_type": "code",
   "execution_count": null,
   "metadata": {},
   "outputs": [],
   "source": [
    "df_outliers = df.loc[outliers]"
   ]
  },
  {
   "cell_type": "code",
   "execution_count": null,
   "metadata": {},
   "outputs": [
    {
     "data": {
      "text/plain": [
       "(3768, 11)"
      ]
     },
     "execution_count": 320,
     "metadata": {},
     "output_type": "execute_result"
    }
   ],
   "source": [
    "df.shape"
   ]
  },
  {
   "cell_type": "code",
   "execution_count": null,
   "metadata": {},
   "outputs": [
    {
     "data": {
      "text/html": [
       "<div>\n",
       "<style scoped>\n",
       "    .dataframe tbody tr th:only-of-type {\n",
       "        vertical-align: middle;\n",
       "    }\n",
       "\n",
       "    .dataframe tbody tr th {\n",
       "        vertical-align: top;\n",
       "    }\n",
       "\n",
       "    .dataframe thead th {\n",
       "        text-align: right;\n",
       "    }\n",
       "</style>\n",
       "<table border=\"1\" class=\"dataframe\">\n",
       "  <thead>\n",
       "    <tr style=\"text-align: right;\">\n",
       "      <th></th>\n",
       "      <th>id</th>\n",
       "      <th>state</th>\n",
       "      <th>gender</th>\n",
       "      <th>median_home_val</th>\n",
       "      <th>median_household_income</th>\n",
       "      <th>ic2</th>\n",
       "      <th>ic3</th>\n",
       "      <th>ic4</th>\n",
       "      <th>ic5</th>\n",
       "      <th>avggift</th>\n",
       "      <th>target_d</th>\n",
       "    </tr>\n",
       "  </thead>\n",
       "  <tbody>\n",
       "    <tr>\n",
       "      <th>3</th>\n",
       "      <td>21885</td>\n",
       "      <td>NC</td>\n",
       "      <td>M</td>\n",
       "      <td>1158.437751</td>\n",
       "      <td>401.0</td>\n",
       "      <td>407.0</td>\n",
       "      <td>399.0</td>\n",
       "      <td>413.0</td>\n",
       "      <td>14014.0</td>\n",
       "      <td>27.277778</td>\n",
       "      <td>38.0</td>\n",
       "    </tr>\n",
       "    <tr>\n",
       "      <th>2052</th>\n",
       "      <td>107569</td>\n",
       "      <td>NE</td>\n",
       "      <td>M</td>\n",
       "      <td>443.000000</td>\n",
       "      <td>231.0</td>\n",
       "      <td>288.0</td>\n",
       "      <td>281.0</td>\n",
       "      <td>323.0</td>\n",
       "      <td>11042.0</td>\n",
       "      <td>36.111111</td>\n",
       "      <td>50.0</td>\n",
       "    </tr>\n",
       "    <tr>\n",
       "      <th>9</th>\n",
       "      <td>141720</td>\n",
       "      <td>NV</td>\n",
       "      <td>F</td>\n",
       "      <td>1569.000000</td>\n",
       "      <td>673.0</td>\n",
       "      <td>672.0</td>\n",
       "      <td>785.0</td>\n",
       "      <td>781.0</td>\n",
       "      <td>25775.0</td>\n",
       "      <td>13.000000</td>\n",
       "      <td>5.0</td>\n",
       "    </tr>\n",
       "    <tr>\n",
       "      <th>10</th>\n",
       "      <td>186272</td>\n",
       "      <td>CA</td>\n",
       "      <td>F</td>\n",
       "      <td>3515.000000</td>\n",
       "      <td>521.0</td>\n",
       "      <td>565.0</td>\n",
       "      <td>549.0</td>\n",
       "      <td>588.0</td>\n",
       "      <td>20068.0</td>\n",
       "      <td>8.640000</td>\n",
       "      <td>10.0</td>\n",
       "    </tr>\n",
       "    <tr>\n",
       "      <th>2059</th>\n",
       "      <td>1068</td>\n",
       "      <td>CA</td>\n",
       "      <td>F</td>\n",
       "      <td>3528.000000</td>\n",
       "      <td>814.0</td>\n",
       "      <td>808.0</td>\n",
       "      <td>867.0</td>\n",
       "      <td>867.0</td>\n",
       "      <td>25564.0</td>\n",
       "      <td>6.162791</td>\n",
       "      <td>5.0</td>\n",
       "    </tr>\n",
       "  </tbody>\n",
       "</table>\n",
       "</div>"
      ],
      "text/plain": [
       "          id state gender  median_home_val  median_household_income    ic2  \\\n",
       "3      21885    NC      M      1158.437751                    401.0  407.0   \n",
       "2052  107569    NE      M       443.000000                    231.0  288.0   \n",
       "9     141720    NV      F      1569.000000                    673.0  672.0   \n",
       "10    186272    CA      F      3515.000000                    521.0  565.0   \n",
       "2059    1068    CA      F      3528.000000                    814.0  808.0   \n",
       "\n",
       "        ic3    ic4      ic5    avggift  target_d  \n",
       "3     399.0  413.0  14014.0  27.277778      38.0  \n",
       "2052  281.0  323.0  11042.0  36.111111      50.0  \n",
       "9     785.0  781.0  25775.0  13.000000       5.0  \n",
       "10    549.0  588.0  20068.0   8.640000      10.0  \n",
       "2059  867.0  867.0  25564.0   6.162791       5.0  "
      ]
     },
     "execution_count": 313,
     "metadata": {},
     "output_type": "execute_result"
    }
   ],
   "source": [
    "df_outliers.head(5)"
   ]
  },
  {
   "cell_type": "code",
   "execution_count": null,
   "metadata": {},
   "outputs": [
    {
     "data": {
      "text/plain": [
       "(533, 11)"
      ]
     },
     "execution_count": 315,
     "metadata": {},
     "output_type": "execute_result"
    }
   ],
   "source": [
    "df_outliers.shape"
   ]
  },
  {
   "cell_type": "code",
   "execution_count": null,
   "metadata": {},
   "outputs": [
    {
     "data": {
      "text/plain": [
       "id                          0\n",
       "state                       0\n",
       "gender                      0\n",
       "median_home_val            16\n",
       "median_household_income    19\n",
       "ic2                         0\n",
       "ic3                         0\n",
       "ic4                         0\n",
       "ic5                        46\n",
       "avggift                    32\n",
       "target_d                    0\n",
       "dtype: int64"
      ]
     },
     "execution_count": 316,
     "metadata": {},
     "output_type": "execute_result"
    }
   ],
   "source": [
    "df_outliers.isnull().sum()"
   ]
  },
  {
   "cell_type": "code",
   "execution_count": null,
   "metadata": {},
   "outputs": [],
   "source": [
    "df_outliers.to_csv(r\"C:\\Users\\mituc\\Ironhack\\Curso\\IronLabs\\California-cleanin\\california_outliers.csv\")"
   ]
  }
 ],
 "metadata": {
  "interpreter": {
   "hash": "ba1db81cc109b82b4f074f14705a6c6c4ac73c66313ff5962e6e84ea5725364a"
  },
  "kernelspec": {
   "display_name": "Python 3.8.8 ('base': conda)",
   "language": "python",
   "name": "python3"
  },
  "language_info": {
   "codemirror_mode": {
    "name": "ipython",
    "version": 3
   },
   "file_extension": ".py",
   "mimetype": "text/x-python",
   "name": "python",
   "nbconvert_exporter": "python",
   "pygments_lexer": "ipython3",
   "version": "3.9.7"
  },
  "orig_nbformat": 4
 },
 "nbformat": 4,
 "nbformat_minor": 2
}
