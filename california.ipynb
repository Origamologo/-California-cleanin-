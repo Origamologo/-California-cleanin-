{
 "cells": [
  {
   "cell_type": "code",
   "execution_count": 1,
   "metadata": {},
   "outputs": [],
   "source": [
    "import pandas as pd\n",
    "import numpy as np\n",
    "import matplotlib.pyplot as plt\n",
    "import seaborn as sns\n",
    "pd.options.display.max_columns = None"
   ]
  },
  {
   "cell_type": "code",
   "execution_count": 2,
   "metadata": {},
   "outputs": [],
   "source": [
    "from sklearn.impute import SimpleImputer\n",
    "from sklearn.experimental import enable_iterative_imputer\n",
    "from sklearn.impute import IterativeImputer\n",
    "from sklearn.impute import KNNImputer"
   ]
  },
  {
   "cell_type": "code",
   "execution_count": 3,
   "metadata": {},
   "outputs": [],
   "source": [
    "df = pd.read_csv(r\"C:\\Users\\mituc\\Ironhack\\Curso\\IronLabs\\California-cleanin\\california.csv\", index_col = 0)"
   ]
  },
  {
   "cell_type": "markdown",
   "metadata": {},
   "source": [
    "'id',: id de la casa<br>\n",
    "'state',: el estado al que pertenece<br>\n",
    "'gender',: el género de la persona que alquila la casa<br>\n",
    "'median_home_val',: el valor de la casa<br>\n",
    "'median_household_income',:_ la mediana de la renta de la poblacion<br>\n",
    "'ic2', poblacion de la zona<br>\n",
    "'ic3', numero de vecinos en el bloque<br>\n",
    "'ic4', total de habitaciones<br>\n",
    "'ic5', total de baños<br>\n",
    "'avggift',:_ distancia a la playa<br>\n",
    "'target_d': esta variable no la usaremos, asi que la podeis elimina<br>"
   ]
  },
  {
   "cell_type": "code",
   "execution_count": 4,
   "metadata": {},
   "outputs": [
    {
     "data": {
      "text/html": [
       "<div>\n",
       "<style scoped>\n",
       "    .dataframe tbody tr th:only-of-type {\n",
       "        vertical-align: middle;\n",
       "    }\n",
       "\n",
       "    .dataframe tbody tr th {\n",
       "        vertical-align: top;\n",
       "    }\n",
       "\n",
       "    .dataframe thead th {\n",
       "        text-align: right;\n",
       "    }\n",
       "</style>\n",
       "<table border=\"1\" class=\"dataframe\">\n",
       "  <thead>\n",
       "    <tr style=\"text-align: right;\">\n",
       "      <th></th>\n",
       "      <th>id</th>\n",
       "      <th>state</th>\n",
       "      <th>gender</th>\n",
       "      <th>median_home_val</th>\n",
       "      <th>median_household_income</th>\n",
       "      <th>ic2</th>\n",
       "      <th>ic3</th>\n",
       "      <th>ic4</th>\n",
       "      <th>ic5</th>\n",
       "      <th>avggift</th>\n",
       "      <th>target_d</th>\n",
       "    </tr>\n",
       "  </thead>\n",
       "  <tbody>\n",
       "    <tr>\n",
       "      <th>0</th>\n",
       "      <td>44060</td>\n",
       "      <td>FL</td>\n",
       "      <td>M</td>\n",
       "      <td>1158.437751</td>\n",
       "      <td>392.0</td>\n",
       "      <td>430.0</td>\n",
       "      <td>466.0</td>\n",
       "      <td>520.0</td>\n",
       "      <td>21975.0</td>\n",
       "      <td>NaN</td>\n",
       "      <td>100.0</td>\n",
       "    </tr>\n",
       "    <tr>\n",
       "      <th>1</th>\n",
       "      <td>96093</td>\n",
       "      <td>IL</td>\n",
       "      <td>M</td>\n",
       "      <td>537.000000</td>\n",
       "      <td>365.0</td>\n",
       "      <td>415.0</td>\n",
       "      <td>410.0</td>\n",
       "      <td>473.0</td>\n",
       "      <td>19387.0</td>\n",
       "      <td>5.666667</td>\n",
       "      <td>7.0</td>\n",
       "    </tr>\n",
       "    <tr>\n",
       "      <th>2</th>\n",
       "      <td>43333</td>\n",
       "      <td>FL</td>\n",
       "      <td>F</td>\n",
       "      <td>725.000000</td>\n",
       "      <td>301.0</td>\n",
       "      <td>340.0</td>\n",
       "      <td>361.0</td>\n",
       "      <td>436.0</td>\n",
       "      <td>18837.0</td>\n",
       "      <td>4.111111</td>\n",
       "      <td>5.0</td>\n",
       "    </tr>\n",
       "    <tr>\n",
       "      <th>3</th>\n",
       "      <td>21885</td>\n",
       "      <td>NC</td>\n",
       "      <td>M</td>\n",
       "      <td>1158.437751</td>\n",
       "      <td>401.0</td>\n",
       "      <td>407.0</td>\n",
       "      <td>399.0</td>\n",
       "      <td>413.0</td>\n",
       "      <td>14014.0</td>\n",
       "      <td>27.277778</td>\n",
       "      <td>38.0</td>\n",
       "    </tr>\n",
       "    <tr>\n",
       "      <th>4</th>\n",
       "      <td>190108</td>\n",
       "      <td>FL</td>\n",
       "      <td>F</td>\n",
       "      <td>995.000000</td>\n",
       "      <td>252.0</td>\n",
       "      <td>280.0</td>\n",
       "      <td>316.0</td>\n",
       "      <td>348.0</td>\n",
       "      <td>17991.0</td>\n",
       "      <td>6.000000</td>\n",
       "      <td>5.0</td>\n",
       "    </tr>\n",
       "  </tbody>\n",
       "</table>\n",
       "</div>"
      ],
      "text/plain": [
       "       id state gender  median_home_val  median_household_income    ic2  \\\n",
       "0   44060    FL      M      1158.437751                    392.0  430.0   \n",
       "1   96093    IL      M       537.000000                    365.0  415.0   \n",
       "2   43333    FL      F       725.000000                    301.0  340.0   \n",
       "3   21885    NC      M      1158.437751                    401.0  407.0   \n",
       "4  190108    FL      F       995.000000                    252.0  280.0   \n",
       "\n",
       "     ic3    ic4      ic5    avggift  target_d  \n",
       "0  466.0  520.0  21975.0        NaN     100.0  \n",
       "1  410.0  473.0  19387.0   5.666667       7.0  \n",
       "2  361.0  436.0  18837.0   4.111111       5.0  \n",
       "3  399.0  413.0  14014.0  27.277778      38.0  \n",
       "4  316.0  348.0  17991.0   6.000000       5.0  "
      ]
     },
     "execution_count": 4,
     "metadata": {},
     "output_type": "execute_result"
    }
   ],
   "source": [
    "df.head(5)"
   ]
  },
  {
   "cell_type": "code",
   "execution_count": 5,
   "metadata": {},
   "outputs": [
    {
     "data": {
      "text/plain": [
       "(3993, 11)"
      ]
     },
     "execution_count": 5,
     "metadata": {},
     "output_type": "execute_result"
    }
   ],
   "source": [
    "df.shape"
   ]
  },
  {
   "cell_type": "code",
   "execution_count": 6,
   "metadata": {},
   "outputs": [
    {
     "data": {
      "text/plain": [
       "0"
      ]
     },
     "execution_count": 6,
     "metadata": {},
     "output_type": "execute_result"
    }
   ],
   "source": [
    "df.duplicated(subset=[\"id\"]).sum()"
   ]
  },
  {
   "cell_type": "code",
   "execution_count": 7,
   "metadata": {},
   "outputs": [
    {
     "data": {
      "image/png": "[encoded data removed]",
      "text/plain": [
       "<Figure size 1440x1080 with 9 Axes>"
      ]
     },
     "metadata": {
      "needs_background": "light"
     },
     "output_type": "display_data"
    }
   ],
   "source": [
    "df.hist(bins = 50, figsize = (20,15))\n",
    "plt.show()"
   ]
  },
  {
   "cell_type": "code",
   "execution_count": 8,
   "metadata": {},
   "outputs": [
    {
     "data": {
      "text/plain": [
       "median_home_val            1.000000\n",
       "ic5                        0.744776\n",
       "ic4                        0.742227\n",
       "ic2                        0.737371\n",
       "ic3                        0.732857\n",
       "median_household_income    0.700940\n",
       "id                         0.253189\n",
       "avggift                    0.125058\n",
       "target_d                   0.110053\n",
       "Name: median_home_val, dtype: float64"
      ]
     },
     "execution_count": 8,
     "metadata": {},
     "output_type": "execute_result"
    }
   ],
   "source": [
    "corr_matrix = df.corr()\n",
    "corr_matrix[\"median_home_val\"].sort_values(ascending=False)\n"
   ]
  },
  {
   "cell_type": "code",
   "execution_count": 9,
   "metadata": {},
   "outputs": [],
   "source": [
    "df[\"rooms_per_neigh\"] = df[\"ic4\"]/df[\"ic3\"]\n",
    "#df[\"baths_per_neigh\"] = df[\"ic5\"]/df[\"ic3\"]\n",
    "df[\"population_per_household\"] = df[\"ic2\"]/df[\"ic3\"]\n"
   ]
  },
  {
   "cell_type": "code",
   "execution_count": 10,
   "metadata": {},
   "outputs": [
    {
     "data": {
      "text/plain": [
       "median_home_val             1.000000\n",
       "ic5                         0.744776\n",
       "ic4                         0.742227\n",
       "ic2                         0.737371\n",
       "ic3                         0.732857\n",
       "median_household_income     0.700940\n",
       "id                          0.253189\n",
       "avggift                     0.125058\n",
       "target_d                    0.110053\n",
       "population_per_household    0.096456\n",
       "rooms_per_neigh            -0.076728\n",
       "Name: median_home_val, dtype: float64"
      ]
     },
     "execution_count": 10,
     "metadata": {},
     "output_type": "execute_result"
    }
   ],
   "source": [
    "corr_matrix = df.corr()\n",
    "corr_matrix[\"median_home_val\"].sort_values(ascending=False)"
   ]
  },
  {
   "cell_type": "code",
   "execution_count": 11,
   "metadata": {},
   "outputs": [
    {
     "data": {
      "image/png": "[encoded data removed]",
      "text/plain": [
       "<Figure size 432x288 with 1 Axes>"
      ]
     },
     "metadata": {
      "needs_background": "light"
     },
     "output_type": "display_data"
    }
   ],
   "source": [
    "df.plot(kind=\"scatter\", x=\"median_household_income\", y=\"median_home_val\",\n",
    " alpha=0.1)\n",
    "\n",
    "plt.show()\n"
   ]
  },
  {
   "cell_type": "code",
   "execution_count": 12,
   "metadata": {},
   "outputs": [
    {
     "data": {
      "text/plain": [
       "id                            0\n",
       "state                         9\n",
       "gender                        0\n",
       "median_home_val             200\n",
       "median_household_income     120\n",
       "ic2                           8\n",
       "ic3                          80\n",
       "ic4                          40\n",
       "ic5                         399\n",
       "avggift                     280\n",
       "target_d                      0\n",
       "rooms_per_neigh             147\n",
       "population_per_household    117\n",
       "dtype: int64"
      ]
     },
     "execution_count": 12,
     "metadata": {},
     "output_type": "execute_result"
    }
   ],
   "source": [
    "df.isnull().sum()"
   ]
  },
  {
   "cell_type": "code",
   "execution_count": 13,
   "metadata": {},
   "outputs": [
    {
     "data": {
      "text/plain": [
       "array(['M', 'F', 'female', 'Male', 'U', 'J', 'male', 'Female', 'feamale',\n",
       "       'A'], dtype=object)"
      ]
     },
     "execution_count": 13,
     "metadata": {},
     "output_type": "execute_result"
    }
   ],
   "source": [
    "df[\"gender\"].unique()"
   ]
  },
  {
   "cell_type": "code",
   "execution_count": 14,
   "metadata": {},
   "outputs": [],
   "source": [
    "f = ['female','Female','feamale']\n",
    "m = ['Male','male']\n",
    "\n",
    "for i in f:\n",
    "    df[\"gender\"] = df[\"gender\"].str.replace(i, 'F')\n",
    "for i in m:\n",
    "    df[\"gender\"] = df[\"gender\"].str.replace(i,'M')"
   ]
  },
  {
   "cell_type": "code",
   "execution_count": 15,
   "metadata": {},
   "outputs": [
    {
     "data": {
      "text/plain": [
       "array(['M', 'F', 'U', 'J', 'A'], dtype=object)"
      ]
     },
     "execution_count": 15,
     "metadata": {},
     "output_type": "execute_result"
    }
   ],
   "source": [
    "df[\"gender\"].unique()"
   ]
  },
  {
   "cell_type": "code",
   "execution_count": 16,
   "metadata": {},
   "outputs": [
    {
     "data": {
      "text/plain": [
       "F    2276\n",
       "M    1625\n",
       "U      68\n",
       "J      23\n",
       "A       1\n",
       "Name: gender, dtype: int64"
      ]
     },
     "execution_count": 16,
     "metadata": {},
     "output_type": "execute_result"
    }
   ],
   "source": [
    "df[\"gender\"].value_counts()"
   ]
  },
  {
   "cell_type": "code",
   "execution_count": 17,
   "metadata": {},
   "outputs": [
    {
     "data": {
      "text/plain": [
       "3901"
      ]
     },
     "execution_count": 17,
     "metadata": {},
     "output_type": "execute_result"
    }
   ],
   "source": [
    "df[\"gender\"].value_counts()[0]+df[\"gender\"].value_counts()[1]"
   ]
  },
  {
   "cell_type": "code",
   "execution_count": 18,
   "metadata": {},
   "outputs": [],
   "source": [
    "g = ['U','J','A']\n",
    "\n",
    "for i in g:\n",
    "    df.drop(df[df[\"gender\"] == i].index, inplace=True)"
   ]
  },
  {
   "cell_type": "code",
   "execution_count": 19,
   "metadata": {},
   "outputs": [
    {
     "data": {
      "text/plain": [
       "F    2276\n",
       "M    1625\n",
       "Name: gender, dtype: int64"
      ]
     },
     "execution_count": 19,
     "metadata": {},
     "output_type": "execute_result"
    }
   ],
   "source": [
    "df[\"gender\"].value_counts()"
   ]
  },
  {
   "cell_type": "code",
   "execution_count": 20,
   "metadata": {},
   "outputs": [
    {
     "data": {
      "text/plain": [
       "array(['FL', 'IL', 'NC', nan, 'NV', 'CA', 'Cali', 'AP', 'MI', 'MT', 'TX',\n",
       "       'WI', 'MO', 'IN', 'HI', 'UT', 'GA', 'WA', 'CT', 'ND', 'SC', 'IA',\n",
       "       'CO', 'LA', 'OR', 'SD', 'AL', 'TN', 'NM', 'AZ', 'MN', 'KY', 'OK',\n",
       "       'NE', 'AR', 'KS', 'ID', 'California', 'MS', 'NY', 'Arizona', 'WY',\n",
       "       'Tennessee', 'MD', 'AK', 'VA', 'AE', 'NJ', 'AA', 'PA', 'VT', 'WV',\n",
       "       'GU'], dtype=object)"
      ]
     },
     "execution_count": 20,
     "metadata": {},
     "output_type": "execute_result"
    }
   ],
   "source": [
    "df[\"state\"].unique()"
   ]
  },
  {
   "cell_type": "code",
   "execution_count": 21,
   "metadata": {},
   "outputs": [],
   "source": [
    "df[\"state\"] = df[\"state\"].str.replace('California', 'CA')\n",
    "df[\"state\"] = df[\"state\"].str.replace('Cali', 'CA')\n",
    "df[\"state\"] = df[\"state\"].str.replace('Arizona', 'AZ')\n",
    "df[\"state\"] = df[\"state\"].str.replace('Tennessee', 'TN')\n"
   ]
  },
  {
   "cell_type": "code",
   "execution_count": 22,
   "metadata": {},
   "outputs": [
    {
     "data": {
      "text/plain": [
       "array(['FL', 'IL', 'NC', nan, 'NV', 'CA', 'AP', 'MI', 'MT', 'TX', 'WI',\n",
       "       'MO', 'IN', 'HI', 'UT', 'GA', 'WA', 'CT', 'ND', 'SC', 'IA', 'CO',\n",
       "       'LA', 'OR', 'SD', 'AL', 'TN', 'NM', 'AZ', 'MN', 'KY', 'OK', 'NE',\n",
       "       'AR', 'KS', 'ID', 'MS', 'NY', 'WY', 'MD', 'AK', 'VA', 'AE', 'NJ',\n",
       "       'AA', 'PA', 'VT', 'WV', 'GU'], dtype=object)"
      ]
     },
     "execution_count": 22,
     "metadata": {},
     "output_type": "execute_result"
    }
   ],
   "source": [
    "df[\"state\"].unique()"
   ]
  },
  {
   "cell_type": "code",
   "execution_count": 23,
   "metadata": {},
   "outputs": [
    {
     "data": {
      "text/plain": [
       "id                            0\n",
       "state                         8\n",
       "gender                        0\n",
       "median_home_val             196\n",
       "median_household_income     118\n",
       "ic2                           8\n",
       "ic3                          77\n",
       "ic4                          40\n",
       "ic5                         391\n",
       "avggift                     271\n",
       "target_d                      0\n",
       "rooms_per_neigh             144\n",
       "population_per_household    114\n",
       "dtype: int64"
      ]
     },
     "execution_count": 23,
     "metadata": {},
     "output_type": "execute_result"
    }
   ],
   "source": [
    "df.isnull().sum()"
   ]
  },
  {
   "cell_type": "code",
   "execution_count": 24,
   "metadata": {},
   "outputs": [],
   "source": [
    "df.dropna(subset = ['state', 'ic2', 'ic3', 'ic4'], inplace = True)"
   ]
  },
  {
   "cell_type": "code",
   "execution_count": 25,
   "metadata": {},
   "outputs": [
    {
     "data": {
      "text/plain": [
       "id                            0\n",
       "state                         0\n",
       "gender                        0\n",
       "median_home_val             194\n",
       "median_household_income     116\n",
       "ic2                           0\n",
       "ic3                           0\n",
       "ic4                           0\n",
       "ic5                         375\n",
       "avggift                     258\n",
       "target_d                      0\n",
       "rooms_per_neigh              28\n",
       "population_per_household     28\n",
       "dtype: int64"
      ]
     },
     "execution_count": 25,
     "metadata": {},
     "output_type": "execute_result"
    }
   ],
   "source": [
    "df.isnull().sum()"
   ]
  },
  {
   "cell_type": "code",
   "execution_count": 26,
   "metadata": {},
   "outputs": [],
   "source": [
    "df_numericas = df.select_dtypes(include=np.number)"
   ]
  },
  {
   "cell_type": "code",
   "execution_count": 27,
   "metadata": {},
   "outputs": [],
   "source": [
    "df_numericas = df_numericas.drop(['id', 'target_d'], axis = 1)"
   ]
  },
  {
   "cell_type": "code",
   "execution_count": 28,
   "metadata": {},
   "outputs": [
    {
     "data": {
      "text/html": [
       "<div>\n",
       "<style scoped>\n",
       "    .dataframe tbody tr th:only-of-type {\n",
       "        vertical-align: middle;\n",
       "    }\n",
       "\n",
       "    .dataframe tbody tr th {\n",
       "        vertical-align: top;\n",
       "    }\n",
       "\n",
       "    .dataframe thead th {\n",
       "        text-align: right;\n",
       "    }\n",
       "</style>\n",
       "<table border=\"1\" class=\"dataframe\">\n",
       "  <thead>\n",
       "    <tr style=\"text-align: right;\">\n",
       "      <th></th>\n",
       "      <th>median_home_val</th>\n",
       "      <th>median_household_income</th>\n",
       "      <th>ic2</th>\n",
       "      <th>ic3</th>\n",
       "      <th>ic4</th>\n",
       "      <th>ic5</th>\n",
       "      <th>avggift</th>\n",
       "      <th>rooms_per_neigh</th>\n",
       "      <th>population_per_household</th>\n",
       "    </tr>\n",
       "  </thead>\n",
       "  <tbody>\n",
       "    <tr>\n",
       "      <th>0</th>\n",
       "      <td>1158.437751</td>\n",
       "      <td>392.0</td>\n",
       "      <td>430.0</td>\n",
       "      <td>466.0</td>\n",
       "      <td>520.0</td>\n",
       "      <td>21975.0</td>\n",
       "      <td>NaN</td>\n",
       "      <td>1.115880</td>\n",
       "      <td>0.922747</td>\n",
       "    </tr>\n",
       "    <tr>\n",
       "      <th>1</th>\n",
       "      <td>537.000000</td>\n",
       "      <td>365.0</td>\n",
       "      <td>415.0</td>\n",
       "      <td>410.0</td>\n",
       "      <td>473.0</td>\n",
       "      <td>19387.0</td>\n",
       "      <td>5.666667</td>\n",
       "      <td>1.153659</td>\n",
       "      <td>1.012195</td>\n",
       "    </tr>\n",
       "    <tr>\n",
       "      <th>2</th>\n",
       "      <td>725.000000</td>\n",
       "      <td>301.0</td>\n",
       "      <td>340.0</td>\n",
       "      <td>361.0</td>\n",
       "      <td>436.0</td>\n",
       "      <td>18837.0</td>\n",
       "      <td>4.111111</td>\n",
       "      <td>1.207756</td>\n",
       "      <td>0.941828</td>\n",
       "    </tr>\n",
       "    <tr>\n",
       "      <th>3</th>\n",
       "      <td>1158.437751</td>\n",
       "      <td>401.0</td>\n",
       "      <td>407.0</td>\n",
       "      <td>399.0</td>\n",
       "      <td>413.0</td>\n",
       "      <td>14014.0</td>\n",
       "      <td>27.277778</td>\n",
       "      <td>1.035088</td>\n",
       "      <td>1.020050</td>\n",
       "    </tr>\n",
       "    <tr>\n",
       "      <th>4</th>\n",
       "      <td>995.000000</td>\n",
       "      <td>252.0</td>\n",
       "      <td>280.0</td>\n",
       "      <td>316.0</td>\n",
       "      <td>348.0</td>\n",
       "      <td>17991.0</td>\n",
       "      <td>6.000000</td>\n",
       "      <td>1.101266</td>\n",
       "      <td>0.886076</td>\n",
       "    </tr>\n",
       "  </tbody>\n",
       "</table>\n",
       "</div>"
      ],
      "text/plain": [
       "   median_home_val  median_household_income    ic2    ic3    ic4      ic5  \\\n",
       "0      1158.437751                    392.0  430.0  466.0  520.0  21975.0   \n",
       "1       537.000000                    365.0  415.0  410.0  473.0  19387.0   \n",
       "2       725.000000                    301.0  340.0  361.0  436.0  18837.0   \n",
       "3      1158.437751                    401.0  407.0  399.0  413.0  14014.0   \n",
       "4       995.000000                    252.0  280.0  316.0  348.0  17991.0   \n",
       "\n",
       "     avggift  rooms_per_neigh  population_per_household  \n",
       "0        NaN         1.115880                  0.922747  \n",
       "1   5.666667         1.153659                  1.012195  \n",
       "2   4.111111         1.207756                  0.941828  \n",
       "3  27.277778         1.035088                  1.020050  \n",
       "4   6.000000         1.101266                  0.886076  "
      ]
     },
     "execution_count": 28,
     "metadata": {},
     "output_type": "execute_result"
    }
   ],
   "source": [
    "df_numericas.head(5)"
   ]
  },
  {
   "cell_type": "code",
   "execution_count": 29,
   "metadata": {},
   "outputs": [
    {
     "data": {
      "image/png": "[encoded data removed]",
      "text/plain": [
       "<Figure size 1440x2520 with 10 Axes>"
      ]
     },
     "metadata": {
      "needs_background": "light"
     },
     "output_type": "display_data"
    }
   ],
   "source": [
    "fig, ax = plt.subplots(10, 1, figsize=(20,35))\n",
    "\n",
    "for i in range(len(df_numericas.columns)):\n",
    "    sns.boxplot(x=df_numericas.columns[i], data=df_numericas, ax=ax[i])\n",
    "plt.show()"
   ]
  },
  {
   "cell_type": "code",
   "execution_count": 30,
   "metadata": {},
   "outputs": [
    {
     "name": "stdout",
     "output_type": "stream",
     "text": [
      "median_home_val 0.0\n",
      "median_household_income 0.0\n",
      "ic2 0.0\n",
      "ic3 0.0\n",
      "ic4 0.0\n",
      "ic5 0.0\n",
      "avggift 2.260869565\n",
      "rooms_per_neigh 0.0\n",
      "population_per_household 0.0\n"
     ]
    }
   ],
   "source": [
    "for i in df_numericas.columns:\n",
    "    print(i,df_numericas[i].min())"
   ]
  },
  {
   "cell_type": "code",
   "execution_count": 31,
   "metadata": {},
   "outputs": [
    {
     "data": {
      "text/plain": [
       "450.0"
      ]
     },
     "execution_count": 31,
     "metadata": {},
     "output_type": "execute_result"
    }
   ],
   "source": [
    "df_numericas[\"avggift\"].max()"
   ]
  },
  {
   "cell_type": "code",
   "execution_count": 32,
   "metadata": {},
   "outputs": [
    {
     "data": {
      "text/plain": [
       "174523.0"
      ]
     },
     "execution_count": 32,
     "metadata": {},
     "output_type": "execute_result"
    }
   ],
   "source": [
    "df_numericas[\"ic5\"].max()"
   ]
  },
  {
   "cell_type": "code",
   "execution_count": 33,
   "metadata": {},
   "outputs": [
    {
     "data": {
      "text/plain": [
       "0.0"
      ]
     },
     "execution_count": 33,
     "metadata": {},
     "output_type": "execute_result"
    }
   ],
   "source": [
    "df_numericas[\"ic4\"].min()"
   ]
  },
  {
   "cell_type": "code",
   "execution_count": 34,
   "metadata": {},
   "outputs": [
    {
     "data": {
      "text/plain": [
       "(3770, 13)"
      ]
     },
     "execution_count": 34,
     "metadata": {},
     "output_type": "execute_result"
    }
   ],
   "source": [
    "df.shape"
   ]
  },
  {
   "cell_type": "code",
   "execution_count": 35,
   "metadata": {},
   "outputs": [],
   "source": [
    "df.drop(df[df['avggift'] == 450.0].index, inplace=True)"
   ]
  },
  {
   "cell_type": "code",
   "execution_count": 36,
   "metadata": {},
   "outputs": [],
   "source": [
    "df.drop(df[df['ic5'] == 174523.0].index, inplace=True)"
   ]
  },
  {
   "cell_type": "code",
   "execution_count": 37,
   "metadata": {},
   "outputs": [],
   "source": [
    "df.drop(df[df['ic4'] == 0.0].index, inplace=True)"
   ]
  },
  {
   "cell_type": "code",
   "execution_count": 38,
   "metadata": {},
   "outputs": [
    {
     "data": {
      "text/plain": [
       "(3739, 13)"
      ]
     },
     "execution_count": 38,
     "metadata": {},
     "output_type": "execute_result"
    }
   ],
   "source": [
    "df.shape"
   ]
  },
  {
   "cell_type": "code",
   "execution_count": 39,
   "metadata": {},
   "outputs": [],
   "source": [
    "def outliers(df, col):\n",
    "    \"\"\"\n",
    "    Calculates the interquartile range of a column in a dataframe.\n",
    "    \n",
    "    Args:\n",
    "        df (pandas Data Frame)\n",
    "        col (string): name of the column\n",
    "    Returns:\n",
    "        q1: value of the first quartile\n",
    "        q2: value of the second quartile\n",
    "        outlier_iqr: interquartile range\n",
    "    \"\"\"\n",
    "    q1 = np.nanpercentile(df[col], 25)\n",
    "    q3 = np.nanpercentile(df[col], 75)\n",
    "    iqr = q3 - q1\n",
    "    outlier_step = 1.5 * iqr\n",
    "    return q1, q3, outlier_step\n",
    "\n",
    "def outliers_df(df, col):\n",
    "    \"\"\"\n",
    "    Separates the outliers of a column in a dataframe.\n",
    "    \n",
    "    Args:\n",
    "        df (pandas Data Frame)\n",
    "        col (string): name of the column\n",
    "    Methods:\n",
    "        Uses the function outliers()\n",
    "    Returns:\n",
    "        outliers_data: dataframe with the outliers\n",
    "    \"\"\"\n",
    "    outliers_data = df[(df[col] < outliers(df, col)[0] - outliers(df, col)[2]) | (df[col] > outliers(df, col)[1] + outliers(df, col)[2])]\n",
    "    return outliers_data\n",
    "\n",
    "def outliers_index(df, list_col):\n",
    "    \"\"\"\n",
    "    Creates a list and a dictionary with the indexes of the outliers of a list of columns in a dataframe.\n",
    "    \n",
    "    Args:\n",
    "        df (pandas Data Frame)\n",
    "        list_col (list): list of strings with the names of the columns\n",
    "    Methods:\n",
    "        Uses the function outliers_df()\n",
    "    Returns:\n",
    "        dicc_index: dictionary with the name of the columns as keys and the indexes of the outliers as values\n",
    "        outliers: list with the indexes of the outliers\n",
    "    \"\"\"\n",
    "    dicc_index = {}\n",
    "    for i in list_col:\n",
    "        if outliers_df(df, i).shape[0] > 0:\n",
    "            dicc_index[i] = list(outliers_df(df, i).index)\n",
    "    outliers = list(set([i for sublist in list(dicc_index.values()) for i in sublist]))\n",
    "    return dicc_index, outliers"
   ]
  },
  {
   "cell_type": "code",
   "execution_count": 40,
   "metadata": {},
   "outputs": [],
   "source": [
    "outliers = outliers_index(df, df_numericas.columns)[1]"
   ]
  },
  {
   "cell_type": "code",
   "execution_count": 41,
   "metadata": {},
   "outputs": [
    {
     "data": {
      "text/plain": [
       "719"
      ]
     },
     "execution_count": 41,
     "metadata": {},
     "output_type": "execute_result"
    }
   ],
   "source": [
    "len(outliers)"
   ]
  },
  {
   "cell_type": "code",
   "execution_count": 42,
   "metadata": {},
   "outputs": [],
   "source": [
    "df_no_outliers = df.drop(index=outliers)"
   ]
  },
  {
   "cell_type": "code",
   "execution_count": 43,
   "metadata": {},
   "outputs": [
    {
     "data": {
      "text/plain": [
       "(3020, 13)"
      ]
     },
     "execution_count": 43,
     "metadata": {},
     "output_type": "execute_result"
    }
   ],
   "source": [
    "df_no_outliers.shape"
   ]
  },
  {
   "cell_type": "code",
   "execution_count": 44,
   "metadata": {},
   "outputs": [
    {
     "data": {
      "text/plain": [
       "id                            0\n",
       "state                         0\n",
       "gender                        0\n",
       "median_home_val             164\n",
       "median_household_income      88\n",
       "ic2                           0\n",
       "ic3                           0\n",
       "ic4                           0\n",
       "ic5                         315\n",
       "avggift                     212\n",
       "target_d                      0\n",
       "rooms_per_neigh               0\n",
       "population_per_household      0\n",
       "dtype: int64"
      ]
     },
     "execution_count": 44,
     "metadata": {},
     "output_type": "execute_result"
    }
   ],
   "source": [
    "df_no_outliers.isnull().sum()"
   ]
  },
  {
   "cell_type": "code",
   "execution_count": 45,
   "metadata": {},
   "outputs": [],
   "source": [
    "num_no_liers = df_no_outliers.select_dtypes(include=np.number)\n",
    "num_no_liers = num_no_liers.drop(['id', 'target_d'], axis = 1)"
   ]
  },
  {
   "cell_type": "code",
   "execution_count": 46,
   "metadata": {},
   "outputs": [
    {
     "data": {
      "text/plain": [
       "(3020, 9)"
      ]
     },
     "execution_count": 46,
     "metadata": {},
     "output_type": "execute_result"
    }
   ],
   "source": [
    "num_no_liers.shape"
   ]
  },
  {
   "cell_type": "code",
   "execution_count": 47,
   "metadata": {},
   "outputs": [
    {
     "data": {
      "text/plain": [
       "KNNImputer()"
      ]
     },
     "execution_count": 47,
     "metadata": {},
     "output_type": "execute_result"
    }
   ],
   "source": [
    "imputerKNN = KNNImputer(n_neighbors=5)\n",
    "imputerKNN.fit(num_no_liers)"
   ]
  },
  {
   "cell_type": "code",
   "execution_count": 48,
   "metadata": {},
   "outputs": [],
   "source": [
    "num_no_liers_knn = imputerKNN.transform(num_no_liers)"
   ]
  },
  {
   "cell_type": "code",
   "execution_count": 49,
   "metadata": {},
   "outputs": [],
   "source": [
    "df_no_outliers_knn = pd.DataFrame(num_no_liers_knn, columns=num_no_liers.columns)"
   ]
  },
  {
   "cell_type": "code",
   "execution_count": 50,
   "metadata": {},
   "outputs": [
    {
     "data": {
      "text/plain": [
       "(3020, 9)"
      ]
     },
     "execution_count": 50,
     "metadata": {},
     "output_type": "execute_result"
    }
   ],
   "source": [
    "df_no_outliers_knn.shape"
   ]
  },
  {
   "cell_type": "code",
   "execution_count": 51,
   "metadata": {},
   "outputs": [
    {
     "data": {
      "text/plain": [
       "median_home_val             0\n",
       "median_household_income     0\n",
       "ic2                         0\n",
       "ic3                         0\n",
       "ic4                         0\n",
       "ic5                         0\n",
       "avggift                     0\n",
       "rooms_per_neigh             0\n",
       "population_per_household    0\n",
       "dtype: int64"
      ]
     },
     "execution_count": 51,
     "metadata": {},
     "output_type": "execute_result"
    }
   ],
   "source": [
    "df_no_outliers_knn.isnull().sum()"
   ]
  },
  {
   "cell_type": "code",
   "execution_count": 52,
   "metadata": {},
   "outputs": [],
   "source": [
    "columns_no_outliers_knn = df_no_outliers_knn.columns"
   ]
  },
  {
   "cell_type": "code",
   "execution_count": 53,
   "metadata": {},
   "outputs": [
    {
     "data": {
      "text/plain": [
       "Index(['median_home_val', 'median_household_income', 'ic2', 'ic3', 'ic4',\n",
       "       'ic5', 'avggift', 'rooms_per_neigh', 'population_per_household'],\n",
       "      dtype='object')"
      ]
     },
     "execution_count": 53,
     "metadata": {},
     "output_type": "execute_result"
    }
   ],
   "source": [
    "columns_no_outliers_knn"
   ]
  },
  {
   "cell_type": "code",
   "execution_count": 101,
   "metadata": {},
   "outputs": [],
   "source": [
    "df_no_outliers.drop(columns_no_outliers_knn, axis=1, inplace=True)"
   ]
  },
  {
   "cell_type": "code",
   "execution_count": 102,
   "metadata": {},
   "outputs": [
    {
     "data": {
      "text/plain": [
       "(3020, 4)"
      ]
     },
     "execution_count": 102,
     "metadata": {},
     "output_type": "execute_result"
    }
   ],
   "source": [
    "df_no_outliers.shape"
   ]
  },
  {
   "cell_type": "code",
   "execution_count": 55,
   "metadata": {},
   "outputs": [
    {
     "data": {
      "text/plain": [
       "id          0\n",
       "state       0\n",
       "gender      0\n",
       "target_d    0\n",
       "dtype: int64"
      ]
     },
     "execution_count": 55,
     "metadata": {},
     "output_type": "execute_result"
    }
   ],
   "source": [
    "df_no_outliers.isnull().sum()"
   ]
  },
  {
   "cell_type": "code",
   "execution_count": 103,
   "metadata": {},
   "outputs": [],
   "source": [
    "result = pd.concat([df_no_outliers, df_no_outliers_knn], axis=1)"
   ]
  },
  {
   "cell_type": "code",
   "execution_count": 106,
   "metadata": {},
   "outputs": [],
   "source": [
    "result_1 = df_no_outliers.merge(df_no_outliers_knn, right_index=True, left_index=True, how='inner')"
   ]
  },
  {
   "cell_type": "code",
   "execution_count": 107,
   "metadata": {},
   "outputs": [
    {
     "data": {
      "text/plain": [
       "(2278, 13)"
      ]
     },
     "execution_count": 107,
     "metadata": {},
     "output_type": "execute_result"
    }
   ],
   "source": [
    "result_1.shape"
   ]
  },
  {
   "cell_type": "code",
   "execution_count": 108,
   "metadata": {},
   "outputs": [
    {
     "data": {
      "text/plain": [
       "id                          0\n",
       "state                       0\n",
       "gender                      0\n",
       "target_d                    0\n",
       "median_home_val             0\n",
       "median_household_income     0\n",
       "ic2                         0\n",
       "ic3                         0\n",
       "ic4                         0\n",
       "ic5                         0\n",
       "avggift                     0\n",
       "rooms_per_neigh             0\n",
       "population_per_household    0\n",
       "dtype: int64"
      ]
     },
     "execution_count": 108,
     "metadata": {},
     "output_type": "execute_result"
    }
   ],
   "source": [
    "result_1.isnull().sum()"
   ]
  },
  {
   "cell_type": "code",
   "execution_count": 57,
   "metadata": {},
   "outputs": [
    {
     "data": {
      "text/plain": [
       "(3762, 13)"
      ]
     },
     "execution_count": 57,
     "metadata": {},
     "output_type": "execute_result"
    }
   ],
   "source": [
    "result.shape"
   ]
  },
  {
   "cell_type": "code",
   "execution_count": 58,
   "metadata": {},
   "outputs": [],
   "source": [
    "result.dropna(how='all', inplace=True)"
   ]
  },
  {
   "cell_type": "code",
   "execution_count": 59,
   "metadata": {},
   "outputs": [
    {
     "data": {
      "text/plain": [
       "id                          742\n",
       "state                       742\n",
       "gender                      742\n",
       "target_d                    742\n",
       "median_home_val             742\n",
       "median_household_income     742\n",
       "ic2                         742\n",
       "ic3                         742\n",
       "ic4                         742\n",
       "ic5                         742\n",
       "avggift                     742\n",
       "rooms_per_neigh             742\n",
       "population_per_household    742\n",
       "dtype: int64"
      ]
     },
     "execution_count": 59,
     "metadata": {},
     "output_type": "execute_result"
    }
   ],
   "source": [
    "result.isnull().sum()"
   ]
  },
  {
   "cell_type": "code",
   "execution_count": 60,
   "metadata": {},
   "outputs": [],
   "source": [
    "df_no_outliers[columns_no_outliers_knn] = df_no_outliers_knn[columns_no_outliers_knn]"
   ]
  },
  {
   "cell_type": "code",
   "execution_count": 61,
   "metadata": {},
   "outputs": [],
   "source": [
    "#df_no_outliers[\"baths_per_neigh\"] = df_no_outliers[\"ic5\"]/df_no_outliers[\"ic3\"]"
   ]
  },
  {
   "cell_type": "code",
   "execution_count": 62,
   "metadata": {},
   "outputs": [
    {
     "data": {
      "text/plain": [
       "(3020, 13)"
      ]
     },
     "execution_count": 62,
     "metadata": {},
     "output_type": "execute_result"
    }
   ],
   "source": [
    "df_no_outliers.shape"
   ]
  },
  {
   "cell_type": "code",
   "execution_count": 63,
   "metadata": {},
   "outputs": [
    {
     "data": {
      "text/html": [
       "<div>\n",
       "<style scoped>\n",
       "    .dataframe tbody tr th:only-of-type {\n",
       "        vertical-align: middle;\n",
       "    }\n",
       "\n",
       "    .dataframe tbody tr th {\n",
       "        vertical-align: top;\n",
       "    }\n",
       "\n",
       "    .dataframe thead th {\n",
       "        text-align: right;\n",
       "    }\n",
       "</style>\n",
       "<table border=\"1\" class=\"dataframe\">\n",
       "  <thead>\n",
       "    <tr style=\"text-align: right;\">\n",
       "      <th></th>\n",
       "      <th>id</th>\n",
       "      <th>state</th>\n",
       "      <th>gender</th>\n",
       "      <th>target_d</th>\n",
       "      <th>median_home_val</th>\n",
       "      <th>median_household_income</th>\n",
       "      <th>ic2</th>\n",
       "      <th>ic3</th>\n",
       "      <th>ic4</th>\n",
       "      <th>ic5</th>\n",
       "      <th>avggift</th>\n",
       "      <th>rooms_per_neigh</th>\n",
       "      <th>population_per_household</th>\n",
       "    </tr>\n",
       "  </thead>\n",
       "  <tbody>\n",
       "    <tr>\n",
       "      <th>0</th>\n",
       "      <td>44060</td>\n",
       "      <td>FL</td>\n",
       "      <td>M</td>\n",
       "      <td>100.0</td>\n",
       "      <td>1158.437751</td>\n",
       "      <td>392.0</td>\n",
       "      <td>430.0</td>\n",
       "      <td>466.0</td>\n",
       "      <td>520.0</td>\n",
       "      <td>21975.0</td>\n",
       "      <td>11.626154</td>\n",
       "      <td>1.115880</td>\n",
       "      <td>0.922747</td>\n",
       "    </tr>\n",
       "    <tr>\n",
       "      <th>1</th>\n",
       "      <td>96093</td>\n",
       "      <td>IL</td>\n",
       "      <td>M</td>\n",
       "      <td>7.0</td>\n",
       "      <td>537.000000</td>\n",
       "      <td>365.0</td>\n",
       "      <td>415.0</td>\n",
       "      <td>410.0</td>\n",
       "      <td>473.0</td>\n",
       "      <td>19387.0</td>\n",
       "      <td>5.666667</td>\n",
       "      <td>1.153659</td>\n",
       "      <td>1.012195</td>\n",
       "    </tr>\n",
       "    <tr>\n",
       "      <th>2</th>\n",
       "      <td>43333</td>\n",
       "      <td>FL</td>\n",
       "      <td>F</td>\n",
       "      <td>5.0</td>\n",
       "      <td>725.000000</td>\n",
       "      <td>301.0</td>\n",
       "      <td>340.0</td>\n",
       "      <td>361.0</td>\n",
       "      <td>436.0</td>\n",
       "      <td>18837.0</td>\n",
       "      <td>4.111111</td>\n",
       "      <td>1.207756</td>\n",
       "      <td>0.941828</td>\n",
       "    </tr>\n",
       "    <tr>\n",
       "      <th>4</th>\n",
       "      <td>190108</td>\n",
       "      <td>FL</td>\n",
       "      <td>F</td>\n",
       "      <td>5.0</td>\n",
       "      <td>1026.000000</td>\n",
       "      <td>459.0</td>\n",
       "      <td>470.0</td>\n",
       "      <td>491.0</td>\n",
       "      <td>496.0</td>\n",
       "      <td>13803.0</td>\n",
       "      <td>11.250000</td>\n",
       "      <td>1.010183</td>\n",
       "      <td>0.957230</td>\n",
       "    </tr>\n",
       "    <tr>\n",
       "      <th>11</th>\n",
       "      <td>154301</td>\n",
       "      <td>CA</td>\n",
       "      <td>F</td>\n",
       "      <td>10.0</td>\n",
       "      <td>1538.000000</td>\n",
       "      <td>271.0</td>\n",
       "      <td>317.0</td>\n",
       "      <td>342.0</td>\n",
       "      <td>393.0</td>\n",
       "      <td>15627.0</td>\n",
       "      <td>5.500000</td>\n",
       "      <td>1.149123</td>\n",
       "      <td>0.926901</td>\n",
       "    </tr>\n",
       "  </tbody>\n",
       "</table>\n",
       "</div>"
      ],
      "text/plain": [
       "        id state gender  target_d  median_home_val  median_household_income  \\\n",
       "0    44060    FL      M     100.0      1158.437751                    392.0   \n",
       "1    96093    IL      M       7.0       537.000000                    365.0   \n",
       "2    43333    FL      F       5.0       725.000000                    301.0   \n",
       "4   190108    FL      F       5.0      1026.000000                    459.0   \n",
       "11  154301    CA      F      10.0      1538.000000                    271.0   \n",
       "\n",
       "      ic2    ic3    ic4      ic5    avggift  rooms_per_neigh  \\\n",
       "0   430.0  466.0  520.0  21975.0  11.626154         1.115880   \n",
       "1   415.0  410.0  473.0  19387.0   5.666667         1.153659   \n",
       "2   340.0  361.0  436.0  18837.0   4.111111         1.207756   \n",
       "4   470.0  491.0  496.0  13803.0  11.250000         1.010183   \n",
       "11  317.0  342.0  393.0  15627.0   5.500000         1.149123   \n",
       "\n",
       "    population_per_household  \n",
       "0                   0.922747  \n",
       "1                   1.012195  \n",
       "2                   0.941828  \n",
       "4                   0.957230  \n",
       "11                  0.926901  "
      ]
     },
     "execution_count": 63,
     "metadata": {},
     "output_type": "execute_result"
    }
   ],
   "source": [
    "df_no_outliers.head(5)"
   ]
  },
  {
   "cell_type": "code",
   "execution_count": 64,
   "metadata": {},
   "outputs": [
    {
     "data": {
      "text/plain": [
       "id                            0\n",
       "state                         0\n",
       "gender                        0\n",
       "target_d                      0\n",
       "median_home_val             742\n",
       "median_household_income     742\n",
       "ic2                         742\n",
       "ic3                         742\n",
       "ic4                         742\n",
       "ic5                         742\n",
       "avggift                     742\n",
       "rooms_per_neigh             742\n",
       "population_per_household    742\n",
       "dtype: int64"
      ]
     },
     "execution_count": 64,
     "metadata": {},
     "output_type": "execute_result"
    }
   ],
   "source": [
    "df_no_outliers.isnull().sum()"
   ]
  },
  {
   "cell_type": "code",
   "execution_count": 65,
   "metadata": {},
   "outputs": [],
   "source": [
    "df_outliers = df.loc[outliers]"
   ]
  },
  {
   "cell_type": "code",
   "execution_count": 66,
   "metadata": {},
   "outputs": [
    {
     "data": {
      "text/html": [
       "<div>\n",
       "<style scoped>\n",
       "    .dataframe tbody tr th:only-of-type {\n",
       "        vertical-align: middle;\n",
       "    }\n",
       "\n",
       "    .dataframe tbody tr th {\n",
       "        vertical-align: top;\n",
       "    }\n",
       "\n",
       "    .dataframe thead th {\n",
       "        text-align: right;\n",
       "    }\n",
       "</style>\n",
       "<table border=\"1\" class=\"dataframe\">\n",
       "  <thead>\n",
       "    <tr style=\"text-align: right;\">\n",
       "      <th></th>\n",
       "      <th>id</th>\n",
       "      <th>state</th>\n",
       "      <th>gender</th>\n",
       "      <th>median_home_val</th>\n",
       "      <th>median_household_income</th>\n",
       "      <th>ic2</th>\n",
       "      <th>ic3</th>\n",
       "      <th>ic4</th>\n",
       "      <th>ic5</th>\n",
       "      <th>avggift</th>\n",
       "      <th>target_d</th>\n",
       "      <th>rooms_per_neigh</th>\n",
       "      <th>population_per_household</th>\n",
       "    </tr>\n",
       "  </thead>\n",
       "  <tbody>\n",
       "    <tr>\n",
       "      <th>3</th>\n",
       "      <td>21885</td>\n",
       "      <td>NC</td>\n",
       "      <td>M</td>\n",
       "      <td>1158.437751</td>\n",
       "      <td>401.0</td>\n",
       "      <td>407.0</td>\n",
       "      <td>399.0</td>\n",
       "      <td>413.0</td>\n",
       "      <td>14014.0</td>\n",
       "      <td>27.277778</td>\n",
       "      <td>38.0</td>\n",
       "      <td>1.035088</td>\n",
       "      <td>1.020050</td>\n",
       "    </tr>\n",
       "    <tr>\n",
       "      <th>2052</th>\n",
       "      <td>107569</td>\n",
       "      <td>NE</td>\n",
       "      <td>M</td>\n",
       "      <td>443.000000</td>\n",
       "      <td>231.0</td>\n",
       "      <td>288.0</td>\n",
       "      <td>281.0</td>\n",
       "      <td>323.0</td>\n",
       "      <td>11042.0</td>\n",
       "      <td>36.111111</td>\n",
       "      <td>50.0</td>\n",
       "      <td>1.149466</td>\n",
       "      <td>1.024911</td>\n",
       "    </tr>\n",
       "    <tr>\n",
       "      <th>9</th>\n",
       "      <td>141720</td>\n",
       "      <td>NV</td>\n",
       "      <td>F</td>\n",
       "      <td>1569.000000</td>\n",
       "      <td>673.0</td>\n",
       "      <td>672.0</td>\n",
       "      <td>785.0</td>\n",
       "      <td>781.0</td>\n",
       "      <td>25775.0</td>\n",
       "      <td>13.000000</td>\n",
       "      <td>5.0</td>\n",
       "      <td>0.994904</td>\n",
       "      <td>0.856051</td>\n",
       "    </tr>\n",
       "    <tr>\n",
       "      <th>10</th>\n",
       "      <td>186272</td>\n",
       "      <td>CA</td>\n",
       "      <td>F</td>\n",
       "      <td>3515.000000</td>\n",
       "      <td>521.0</td>\n",
       "      <td>565.0</td>\n",
       "      <td>549.0</td>\n",
       "      <td>588.0</td>\n",
       "      <td>20068.0</td>\n",
       "      <td>8.640000</td>\n",
       "      <td>10.0</td>\n",
       "      <td>1.071038</td>\n",
       "      <td>1.029144</td>\n",
       "    </tr>\n",
       "    <tr>\n",
       "      <th>2059</th>\n",
       "      <td>1068</td>\n",
       "      <td>CA</td>\n",
       "      <td>F</td>\n",
       "      <td>3528.000000</td>\n",
       "      <td>814.0</td>\n",
       "      <td>808.0</td>\n",
       "      <td>867.0</td>\n",
       "      <td>867.0</td>\n",
       "      <td>25564.0</td>\n",
       "      <td>6.162791</td>\n",
       "      <td>5.0</td>\n",
       "      <td>1.000000</td>\n",
       "      <td>0.931949</td>\n",
       "    </tr>\n",
       "  </tbody>\n",
       "</table>\n",
       "</div>"
      ],
      "text/plain": [
       "          id state gender  median_home_val  median_household_income    ic2  \\\n",
       "3      21885    NC      M      1158.437751                    401.0  407.0   \n",
       "2052  107569    NE      M       443.000000                    231.0  288.0   \n",
       "9     141720    NV      F      1569.000000                    673.0  672.0   \n",
       "10    186272    CA      F      3515.000000                    521.0  565.0   \n",
       "2059    1068    CA      F      3528.000000                    814.0  808.0   \n",
       "\n",
       "        ic3    ic4      ic5    avggift  target_d  rooms_per_neigh  \\\n",
       "3     399.0  413.0  14014.0  27.277778      38.0         1.035088   \n",
       "2052  281.0  323.0  11042.0  36.111111      50.0         1.149466   \n",
       "9     785.0  781.0  25775.0  13.000000       5.0         0.994904   \n",
       "10    549.0  588.0  20068.0   8.640000      10.0         1.071038   \n",
       "2059  867.0  867.0  25564.0   6.162791       5.0         1.000000   \n",
       "\n",
       "      population_per_household  \n",
       "3                     1.020050  \n",
       "2052                  1.024911  \n",
       "9                     0.856051  \n",
       "10                    1.029144  \n",
       "2059                  0.931949  "
      ]
     },
     "execution_count": 66,
     "metadata": {},
     "output_type": "execute_result"
    }
   ],
   "source": [
    "df_outliers.head(5)"
   ]
  },
  {
   "cell_type": "code",
   "execution_count": 67,
   "metadata": {},
   "outputs": [
    {
     "data": {
      "text/plain": [
       "(719, 13)"
      ]
     },
     "execution_count": 67,
     "metadata": {},
     "output_type": "execute_result"
    }
   ],
   "source": [
    "df_outliers.shape"
   ]
  },
  {
   "cell_type": "code",
   "execution_count": 68,
   "metadata": {},
   "outputs": [
    {
     "data": {
      "text/plain": [
       "id                           0\n",
       "state                        0\n",
       "gender                       0\n",
       "median_home_val             29\n",
       "median_household_income     27\n",
       "ic2                          0\n",
       "ic3                          0\n",
       "ic4                          0\n",
       "ic5                         55\n",
       "avggift                     45\n",
       "target_d                     0\n",
       "rooms_per_neigh              0\n",
       "population_per_household     0\n",
       "dtype: int64"
      ]
     },
     "execution_count": 68,
     "metadata": {},
     "output_type": "execute_result"
    }
   ],
   "source": [
    "df_outliers.isnull().sum()"
   ]
  },
  {
   "cell_type": "code",
   "execution_count": 69,
   "metadata": {},
   "outputs": [],
   "source": [
    "num_liers = df_outliers.select_dtypes(include=np.number)\n",
    "num_liers = num_liers.drop(['id', 'target_d'], axis = 1)"
   ]
  },
  {
   "cell_type": "code",
   "execution_count": 70,
   "metadata": {},
   "outputs": [
    {
     "data": {
      "text/plain": [
       "(719, 9)"
      ]
     },
     "execution_count": 70,
     "metadata": {},
     "output_type": "execute_result"
    }
   ],
   "source": [
    "num_liers.shape"
   ]
  },
  {
   "cell_type": "code",
   "execution_count": 71,
   "metadata": {},
   "outputs": [
    {
     "data": {
      "text/plain": [
       "KNNImputer()"
      ]
     },
     "execution_count": 71,
     "metadata": {},
     "output_type": "execute_result"
    }
   ],
   "source": [
    "imputerKNN = KNNImputer(n_neighbors=5)\n",
    "imputerKNN.fit(num_liers)"
   ]
  },
  {
   "cell_type": "code",
   "execution_count": 72,
   "metadata": {},
   "outputs": [],
   "source": [
    "num_liers_knn = imputerKNN.transform(num_liers)\n",
    "df_outliers_knn = pd.DataFrame(num_liers_knn, columns=num_no_liers.columns)"
   ]
  },
  {
   "cell_type": "code",
   "execution_count": 73,
   "metadata": {},
   "outputs": [
    {
     "data": {
      "text/plain": [
       "(719, 9)"
      ]
     },
     "execution_count": 73,
     "metadata": {},
     "output_type": "execute_result"
    }
   ],
   "source": [
    "df_outliers_knn.shape"
   ]
  },
  {
   "cell_type": "code",
   "execution_count": 74,
   "metadata": {},
   "outputs": [
    {
     "data": {
      "text/plain": [
       "median_home_val             0\n",
       "median_household_income     0\n",
       "ic2                         0\n",
       "ic3                         0\n",
       "ic4                         0\n",
       "ic5                         0\n",
       "avggift                     0\n",
       "rooms_per_neigh             0\n",
       "population_per_household    0\n",
       "dtype: int64"
      ]
     },
     "execution_count": 74,
     "metadata": {},
     "output_type": "execute_result"
    }
   ],
   "source": [
    "df_outliers_knn.isnull().sum()"
   ]
  },
  {
   "cell_type": "code",
   "execution_count": 75,
   "metadata": {},
   "outputs": [
    {
     "data": {
      "text/plain": [
       "Index(['median_home_val', 'median_household_income', 'ic2', 'ic3', 'ic4',\n",
       "       'ic5', 'avggift', 'rooms_per_neigh', 'population_per_household'],\n",
       "      dtype='object')"
      ]
     },
     "execution_count": 75,
     "metadata": {},
     "output_type": "execute_result"
    }
   ],
   "source": [
    "columns_outliers_knn = df_outliers_knn.columns\n",
    "columns_outliers_knn"
   ]
  },
  {
   "cell_type": "code",
   "execution_count": 76,
   "metadata": {},
   "outputs": [],
   "source": [
    "df_outliers.drop(columns_outliers_knn, axis=1, inplace=True)"
   ]
  },
  {
   "cell_type": "code",
   "execution_count": 77,
   "metadata": {},
   "outputs": [
    {
     "data": {
      "text/plain": [
       "id          0\n",
       "state       0\n",
       "gender      0\n",
       "target_d    0\n",
       "dtype: int64"
      ]
     },
     "execution_count": 77,
     "metadata": {},
     "output_type": "execute_result"
    }
   ],
   "source": [
    "df_outliers.isnull().sum()"
   ]
  },
  {
   "cell_type": "code",
   "execution_count": 78,
   "metadata": {},
   "outputs": [],
   "source": [
    "df_outliers[columns_outliers_knn] = df_outliers_knn[columns_outliers_knn]"
   ]
  },
  {
   "cell_type": "code",
   "execution_count": 79,
   "metadata": {},
   "outputs": [
    {
     "data": {
      "text/plain": [
       "(719, 13)"
      ]
     },
     "execution_count": 79,
     "metadata": {},
     "output_type": "execute_result"
    }
   ],
   "source": [
    "df_outliers.shape"
   ]
  },
  {
   "cell_type": "code",
   "execution_count": 80,
   "metadata": {},
   "outputs": [
    {
     "data": {
      "text/plain": [
       "id                            0\n",
       "state                         0\n",
       "gender                        0\n",
       "target_d                      0\n",
       "median_home_val             568\n",
       "median_household_income     568\n",
       "ic2                         568\n",
       "ic3                         568\n",
       "ic4                         568\n",
       "ic5                         568\n",
       "avggift                     568\n",
       "rooms_per_neigh             568\n",
       "population_per_household    568\n",
       "dtype: int64"
      ]
     },
     "execution_count": 80,
     "metadata": {},
     "output_type": "execute_result"
    }
   ],
   "source": [
    "df_outliers.isnull().sum()"
   ]
  },
  {
   "cell_type": "code",
   "execution_count": 81,
   "metadata": {},
   "outputs": [],
   "source": [
    "df_no_outliers.to_csv(r\"C:\\Users\\mituc\\Ironhack\\Curso\\IronLabs\\California-cleanin\\california_no_outliers.csv\")\n",
    "df_outliers.to_csv(r\"C:\\Users\\mituc\\Ironhack\\Curso\\IronLabs\\California-cleanin\\california_outliers.csv\")"
   ]
  }
 ],
 "metadata": {
  "interpreter": {
   "hash": "ba1db81cc109b82b4f074f14705a6c6c4ac73c66313ff5962e6e84ea5725364a"
  },
  "kernelspec": {
   "display_name": "Python 3.8.8 ('base': conda)",
   "language": "python",
   "name": "python3"
  },
  "language_info": {
   "codemirror_mode": {
    "name": "ipython",
    "version": 3
   },
   "file_extension": ".py",
   "mimetype": "text/x-python",
   "name": "python",
   "nbconvert_exporter": "python",
   "pygments_lexer": "ipython3",
   "version": "3.9.7"
  },
  "orig_nbformat": 4
 },
 "nbformat": 4,
 "nbformat_minor": 2
}
